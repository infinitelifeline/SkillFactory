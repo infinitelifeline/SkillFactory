{
 "cells": [
  {
   "cell_type": "code",
   "execution_count": null,
   "metadata": {},
   "outputs": [],
   "source": [
    "orders = {\n",
    "    '2022-10-10': ['F124', 'D89D', '142L'],\n",
    "    '2022-10-11': ['H241', 'OR24', 'BE14', '348F'],\n",
    "    '2022-10-12': ['H429', 'JAS2']\n",
    "}\n",
    "target = 'BE14'\n",
    "print(target in orders['2022-10-10'] or ['2022-10-11'] or ['2022-10-12'])\n"
   ]
  },
  {
   "cell_type": "code",
   "execution_count": null,
   "metadata": {},
   "outputs": [],
   "source": [
    "message = 14093530013530593\n",
    "print('5'  in str(message)[:6])"
   ]
  },
  {
   "cell_type": "code",
   "execution_count": null,
   "metadata": {},
   "outputs": [],
   "source": [
    "available_packages = 105\n",
    "total_count = 1677\n",
    "cond1 = total_count % 13 == 0\n",
    "cond2 = total_count // 13 < available_packages\n",
    "result = cond1 and cond2\n",
    "print(result)"
   ]
  },
  {
   "cell_type": "code",
   "execution_count": null,
   "metadata": {},
   "outputs": [],
   "source": [
    "n = 682\n",
    "n= str(n)\n",
    "l1 = n[0]\n",
    "l1 = int(l1)\n",
    "first_is_even = l1 % 2 == 0\n",
    "print(first_is_even)\n",
    "\n"
   ]
  },
  {
   "cell_type": "code",
   "execution_count": null,
   "metadata": {},
   "outputs": [],
   "source": [
    "now = '0:24:39'\n",
    "hour, minute, second = (now).split(':')\n",
    "hour, minute, second = int(hour), int(minute), int(second)\n",
    "if hour in range(6,12):\n",
    "    print('morning')\n",
    "if hour in range(12, 18) and minute in range(1, 61):\n",
    "    print('day')\n",
    "if hour in range(18, 24) and minute in range(1, 61):\n",
    "    print('evening')\n",
    "if hour in range(00, 6) and minute in range(1, 61):\n",
    "    print('night')"
   ]
  },
  {
   "cell_type": "code",
   "execution_count": null,
   "metadata": {},
   "outputs": [],
   "source": [
    "try:\n",
    "    print('before exception')\n",
    "    a = int(input('a: '))\n",
    "    b = int(input('b: '))\n",
    "    c = a / b\n",
    "\n",
    "    print(c)\n",
    "\n",
    "except ZeroDivisionError as e:\n",
    "    print(e)\n",
    "else:\n",
    "    print('it`s all fine')\n",
    "finally:\n",
    "    print('finally finished')\n",
    "    \n",
    "\n",
    "print('after exception')"
   ]
  },
  {
   "cell_type": "code",
   "execution_count": null,
   "metadata": {},
   "outputs": [],
   "source": [
    "index = int(input('type: '))\n",
    "images_db = [101252, 521929, 215251]\n",
    "try:\n",
    "    img_id = images_db[index]\n",
    "except:\n",
    "    img_id = images_db[-1]\n",
    "print(f'Image id: {img_id}')"
   ]
  },
  {
   "cell_type": "code",
   "execution_count": null,
   "metadata": {},
   "outputs": [],
   "source": [
    "my_dict = {'a': 10, 'b': '5.214', 'c': 'simple_string'}\n",
    "\n",
    "val1 = my_dict[key_1]\n",
    "val2 = my_dict[key_2]\n",
    "\n",
    "val1, val2 = float(val1), float(val2)\n",
    "\n",
    "nv = val1 + val2"
   ]
  },
  {
   "cell_type": "code",
   "execution_count": null,
   "metadata": {},
   "outputs": [],
   "source": [
    "def sum(a, b):\n",
    "    res = 0\n",
    "    try:\n",
    "        res = a + b\n",
    "    except Exception:\n",
    "        res = int(a) + int(b)\n",
    "    finally:\n",
    "        print(f'a = {a}, b = {b}, res = {res}')\n",
    "\n",
    "sum(1, '2')"
   ]
  },
  {
   "cell_type": "code",
   "execution_count": null,
   "metadata": {},
   "outputs": [],
   "source": [
    "medicines = {'Ибупрофен': 99, 'Эспумизан': 279, 'Пенталгин': 119}\n",
    "name = 'Визин'\n",
    "try:\n",
    "    check = medicines[name]\n",
    "    print(check)\n",
    "except KeyError:\n",
    "    print('No such medicine')"
   ]
  },
  {
   "cell_type": "code",
   "execution_count": null,
   "metadata": {},
   "outputs": [],
   "source": [
    "age = int(input('Type in your age: '))\n",
    "try:\n",
    "    if age > 100 or age <= 0:\n",
    "        raise ValueError ('you are too old or not exist')\n",
    "except ValueError:\n",
    "    print('wrong age')\n",
    "else:\n",
    "    print(f'your age is {age}')"
   ]
  },
  {
   "cell_type": "code",
   "execution_count": null,
   "metadata": {},
   "outputs": [],
   "source": [
    "import random\n",
    "number = random.randint(0, 2)\n",
    "\n",
    "if number == 0:\n",
    "    raise ZeroDivisionError('you`re going to divide by 0')\n",
    "else:\n",
    "    result = round(10/number,3)\n",
    "print(result)\n",
    "    "
   ]
  },
  {
   "cell_type": "code",
   "execution_count": null,
   "metadata": {},
   "outputs": [],
   "source": [
    "incomes = [120, 38.5, 40.5, 80]\n",
    "sum = 0\n",
    "cur = 0\n",
    "for i in incomes:\n",
    "    cur = i\n",
    "    print(cur)\n",
    "    sum += i\n",
    "print(f'total is {sum}')"
   ]
  },
  {
   "cell_type": "code",
   "execution_count": null,
   "metadata": {},
   "outputs": [],
   "source": [
    "sum = 0\n",
    "n = 5\n",
    "\n",
    "for i in range(1, n+1): sum += i\n",
    "print(sum)"
   ]
  },
  {
   "cell_type": "code",
   "execution_count": null,
   "metadata": {},
   "outputs": [],
   "source": [
    "lst = ['a', 'b', 'c', 'd', 'e']\n",
    "while len(lst)>2: \n",
    "    lst.pop(0)\n",
    "print(lst)"
   ]
  },
  {
   "cell_type": "code",
   "execution_count": null,
   "metadata": {},
   "outputs": [],
   "source": [
    "to_inventory = ['Blood Moon Sword', 'Sunset-colored sword', 'Bow of Stars', 'Gain Stone']\n",
    "inventory = []\n",
    "for item in to_inventory:\n",
    "    if len(inventory) == 3:\n",
    "        print('inventory is full')\n",
    "        break\n",
    "    inventory.append(item)\n",
    "print(inventory)"
   ]
  },
  {
   "cell_type": "code",
   "execution_count": null,
   "metadata": {},
   "outputs": [],
   "source": [
    "client_status = {\n",
    "    103303: 'yes', \n",
    "    103044: 'no',\n",
    "    100423: 'yes',\n",
    "    103032: 'no',\n",
    "    103902: 'no'\n",
    "}\n",
    "\n",
    "for user_id in client_status:\n",
    "    if client_status[user_id] == 'no':\n",
    "        continue\n",
    "    else: print('send present to user', user_id)"
   ]
  },
  {
   "cell_type": "code",
   "execution_count": null,
   "metadata": {},
   "outputs": [],
   "source": [
    "def outer():\n",
    "    print('outer function')\n",
    "    def inner():\n",
    "        print('inner function')\n",
    "    inner()\n",
    "    \n",
    "outer()"
   ]
  },
  {
   "cell_type": "code",
   "execution_count": null,
   "metadata": {},
   "outputs": [],
   "source": [
    "def factorial(number):\n",
    "    if not isinstance(number, int):\n",
    "        raise TypeError('number must be solid')\n",
    "    if number < 0:\n",
    "        raise ValueError('number must be positive')\n",
    "    def inner_factorial(number):\n",
    "        if number <= 1:\n",
    "            return 1\n",
    "        return number * inner_factorial(number-1)\n",
    "    return inner_factorial(number)\n",
    "\n",
    "\n",
    "factorial(4)"
   ]
  },
  {
   "cell_type": "code",
   "execution_count": null,
   "metadata": {},
   "outputs": [],
   "source": [
    "def print_root(value, n=2):\n",
    "    def root(value, n=2):\n",
    "        result = value ** (1/n)\n",
    "        return result\n",
    "    res = root(value, n)\n",
    "    print(f'root of power {n} from {value} equals {res}')\n",
    "    \n",
    "print_root(81, 4)"
   ]
  },
  {
   "cell_type": "code",
   "execution_count": null,
   "metadata": {},
   "outputs": [],
   "source": [
    "def get_count_unique_symbols(s):\n",
    "    s = s.lower()\n",
    "    s = s.replace(' ', '')\n",
    "    s = set(s)\n",
    "    result = len(s)\n",
    "    return result\n",
    "\n",
    "get_count_unique_symbols('This is a simple string')\n"
   ]
  },
  {
   "cell_type": "code",
   "execution_count": null,
   "metadata": {},
   "outputs": [],
   "source": [
    "def get_min_string(s1, s2):\n",
    "    def get_count_unique_symbols(s):\n",
    "        s = s.lower()\n",
    "        s = s.replace(' ', '')\n",
    "        s = set(s)\n",
    "        return len(set(s))\n",
    "    s1_len = get_count_unique_symbols(s1)\n",
    "    s2_len = get_count_unique_symbols(s2)\n",
    "    if s1_len < s2_len:\n",
    "        return s1\n",
    "    elif s1_len > s2_len:\n",
    "        return s2\n",
    "    else:\n",
    "        return (s1, s2)\n",
    "\n",
    "print(get_min_string(s1='Это простая строка', s2='This is a simple string'))"
   ]
  },
  {
   "cell_type": "code",
   "execution_count": null,
   "metadata": {},
   "outputs": [],
   "source": [
    "def register_employee(name, surname):\n",
    "    def create_full_name():\n",
    "        sep = ' '\n",
    "        result = name + sep + surname\n",
    "        return result\n",
    "    full_name = create_full_name()\n",
    "    print(f'Employee {full_name} is registered with the company {company_name}')\n",
    "company_name = input('Type in company name: ')\n",
    "register_employee('John', 'Doe')\n"
   ]
  },
  {
   "cell_type": "code",
   "execution_count": null,
   "metadata": {},
   "outputs": [],
   "source": [
    "\n",
    "def add_item():\n",
    "    global global_count\n",
    "    global_count = 0\n",
    "    global_count += 1\n",
    "    \n",
    "add_item()\n",
    "print(global_count)"
   ]
  },
  {
   "cell_type": "code",
   "execution_count": null,
   "metadata": {},
   "outputs": [],
   "source": [
    "def cash(less_money):\n",
    "    global money\n",
    "    money -= less_money\n",
    "    return money\n",
    "money = 20000\n",
    "print(cash(1000))"
   ]
  },
  {
   "cell_type": "code",
   "execution_count": null,
   "metadata": {},
   "outputs": [],
   "source": [
    "def outer():\n",
    "    enclosing_count = 0\n",
    "    def inner():\n",
    "        nonlocal enclosing_count\n",
    "        enclosing_count += 1\n",
    "        print(enclosing_count)\n",
    "    inner()\n",
    "\n",
    "outer()"
   ]
  },
  {
   "cell_type": "code",
   "execution_count": null,
   "metadata": {},
   "outputs": [],
   "source": [
    "def calculate_cost(cost, sale):\n",
    "    def preprocessing_sale():\n",
    "        nonlocal sale\n",
    "        if type(sale) is str:\n",
    "            sale = float(sale.replace('%', '')) / 100\n",
    "        elif type(sale) is int:\n",
    "            sale = sale / 100\n",
    "    preprocessing_sale()\n",
    "    return cost - cost * sale\n",
    "\n",
    "print(calculate_cost(1330, 0.15))\n"
   ]
  },
  {
   "cell_type": "code",
   "execution_count": null,
   "metadata": {},
   "outputs": [],
   "source": [
    "def register(surname, name, date, middle_name=None, registry=None):\n",
    "    def preprocessing_date(date):\n",
    "        day, month, year = date.split('.')\n",
    "        day, month, year = int(day), int(month), int(year)\n",
    "        return day, month, year\n",
    "    \n",
    "    if registry is None:\n",
    "        registry = list()\n",
    "    day, month, year = preprocessing_date(date)\n",
    "    registry.append((surname, name, middle_name, day, month, year))\n",
    "    return registry\n",
    "\n",
    "\n",
    "    \n",
    "    \n",
    "reg = register('Petrova', 'Maria', '13.03.2003', 'Ivanovna')\n",
    "reg = register('Ivanov', 'Sergej', '24.09.1995', registry=reg)\n",
    "reg = register('Smith', 'John', '13.02.2003', registry=reg)\n",
    "print(reg)\n"
   ]
  },
  {
   "cell_type": "code",
   "execution_count": null,
   "metadata": {},
   "outputs": [],
   "source": [
    "def sum_lst(lst):\n",
    "    print(lst)\n",
    "    if len(lst) == 0:\n",
    "        return 0\n",
    "    return lst[0] + sum_lst(lst[1:])\n",
    "\n",
    "my_lst = [10, 21, 24, 12]\n",
    "\n",
    "print(sum_lst(my_lst))"
   ]
  },
  {
   "cell_type": "code",
   "execution_count": null,
   "metadata": {},
   "outputs": [],
   "source": [
    "def multiply_lst(lst):\n",
    "    if len(lst) == 0:\n",
    "        return 1\n",
    "    return lst[0] * multiply_lst(lst[1:])\n",
    "\n",
    "print(multiply_lst([1, 5, 2, 1.5]))\n"
   ]
  },
  {
   "cell_type": "code",
   "execution_count": null,
   "metadata": {},
   "outputs": [],
   "source": [
    "def inv_sum_list(lst):\n",
    "    if not lst:\n",
    "        return 0\n",
    "    return 1 / lst[0] + inv_sum_list(lst[1:])"
   ]
  },
  {
   "cell_type": "code",
   "execution_count": null,
   "metadata": {},
   "outputs": [],
   "source": [
    "def factorial(n):\n",
    "    if n == 1:\n",
    "        return n\n",
    "    return n*factorial(n-1)\n",
    "\n",
    "factorial(5)"
   ]
  },
  {
   "cell_type": "markdown",
   "metadata": {},
   "source": [
    "Map"
   ]
  },
  {
   "cell_type": "code",
   "execution_count": null,
   "metadata": {},
   "outputs": [],
   "source": [
    "def apply_func(func, x):\n",
    "    return func(x)\n",
    "\n",
    "print(apply_func(max, [1, 10, 35, 20, -1]))"
   ]
  },
  {
   "cell_type": "code",
   "execution_count": null,
   "metadata": {},
   "outputs": [],
   "source": [
    "words_list = [\"We're\", 'in', 'a', 'small', 'village', 'near', 'Chicago', 'My', \"cousin's\", 'getting', 'married.']\n",
    "len_list = []\n",
    "\n",
    "for word in words_list:\n",
    "    length = len(word)\n",
    "    len_list.append(length)\n",
    "    \n",
    "print(len_list)"
   ]
  },
  {
   "cell_type": "code",
   "execution_count": null,
   "metadata": {},
   "outputs": [],
   "source": [
    "words_list = [\"We're\", 'in', 'a', 'small', 'village', 'near', 'Chicago', 'My', \"cousin's\", 'getting', 'married.']\n",
    "\n",
    "len_map = list(map(len, words_list))\n",
    "\n",
    "print(len_map)"
   ]
  },
  {
   "cell_type": "code",
   "execution_count": null,
   "metadata": {},
   "outputs": [],
   "source": [
    "old_list = ['1', '2', '3', '4', '5', '6', '7']\n",
    "\n",
    "new_list = list(map(int, old_list))\n",
    "\n",
    "print(new_list)"
   ]
  },
  {
   "cell_type": "code",
   "execution_count": null,
   "metadata": {},
   "outputs": [],
   "source": [
    "expenses = [[2356, 4537, 8678], [7395, 1298, 6500, 4791],[6341, 3408], [1105, 8374, 5914], [1024, 7333], [3500, 2008, 9375, 6144]]  \n",
    "\n",
    "exp_sum = list(map(sum, expenses))\n",
    "\n",
    "print(exp_sum)"
   ]
  },
  {
   "cell_type": "code",
   "execution_count": null,
   "metadata": {},
   "outputs": [],
   "source": [
    "salaries = [1500, 2200, 3500, 1200]\n",
    "\n",
    "taxes = []\n",
    "\n",
    "for salary in salaries:\n",
    "    if salary < 1000:\n",
    "        taxes.append(salary*0.05)\n",
    "    elif salary < 2000:\n",
    "        taxes.append(salary*0.1)\n",
    "    else:\n",
    "        taxes.append(salary*0.15)\n",
    "\n",
    "print(taxes)"
   ]
  },
  {
   "cell_type": "code",
   "execution_count": null,
   "metadata": {},
   "outputs": [],
   "source": [
    "def calculate_tax(salary):\n",
    "    if salary < 1000:\n",
    "        return salary * 0.05\n",
    "    elif salary < 2000:\n",
    "        return salary * 0.1\n",
    "    else:\n",
    "        return salary * 0.15\n",
    "    \n",
    "sal = list(map(calculate_tax, salaries))\n",
    "\n",
    "print(sal)"
   ]
  },
  {
   "cell_type": "code",
   "execution_count": null,
   "metadata": {},
   "outputs": [],
   "source": [
    "quotes_dict = {\n",
    "    'Преступление и наказание': 'А знаешь ли... что низкие потолки и тесные комнаты душу и ум теснят.', \n",
    "    'Война и мир': 'И нет величия там, где нет простоты, добра и правды.', \n",
    "    'Анна Каренина': 'Если искать совершенства, то никогда не будешь доволен.', \n",
    "    'Детство': 'Правил у нас много, а правды нет.', \n",
    "    'Колесо времени': 'Ничто так на соединяет людей, как улыбка.'\n",
    "}\n",
    "\n",
    "print(list(quotes_dict.items()))"
   ]
  },
  {
   "cell_type": "code",
   "execution_count": null,
   "metadata": {},
   "outputs": [],
   "source": [
    "def preprocessing_quotes(name_quotes_tuple):\n",
    "    name, text = name_quotes_tuple\n",
    "    text = text.lower()\n",
    "    text = text.replace('.', '')\n",
    "    text = text.replace(',', '')\n",
    "    words = text.split(' ')\n",
    "    return (name, words)\n",
    "\n",
    "processed_quotes_dict = dict(map(preprocessing_quotes, quotes_dict.items()))\n",
    "\n",
    "print(processed_quotes_dict)"
   ]
  },
  {
   "cell_type": "code",
   "execution_count": null,
   "metadata": {},
   "outputs": [],
   "source": [
    "number_list = [11, 12, 13, 14, 15, 16]\n",
    "\n",
    "cube_nl = list(map(lambda x: x**3, number_list))\n",
    "\n",
    "print(cube_nl)"
   ]
  },
  {
   "cell_type": "code",
   "execution_count": null,
   "metadata": {},
   "outputs": [],
   "source": [
    "str_list = ['шалаш', 'казак', 'палиндром', 'рвал дед лавр']\n",
    "\n",
    "rev = list(map(lambda x: x[::-1], str_list))\n",
    "\n",
    "print(rev)"
   ]
  },
  {
   "cell_type": "code",
   "execution_count": null,
   "metadata": {},
   "outputs": [],
   "source": [
    "data = [('Amanda', 1.61, 51), ('Patricia', 1.65, 61), ('Marcos', 1.91, 101)]\n",
    "\n",
    "mapf = lambda x: (x[0], x[1], x[2], round(x[2] / (x[1]**2), 1))\n",
    "\n",
    "mapf(('Amanda', 1.61, 51))"
   ]
  },
  {
   "cell_type": "code",
   "execution_count": null,
   "metadata": {},
   "outputs": [],
   "source": [
    "guests = [\"Boris\", \"Ivan\", \"Bob\"]  \n",
    "\n",
    "list(map(lambda name: 'Mr.' + name, guests))"
   ]
  },
  {
   "cell_type": "code",
   "execution_count": null,
   "metadata": {},
   "outputs": [],
   "source": [
    "docs = [  \n",
    "'//doc/5041434?query=data%20science',  \n",
    "'//doc/5041567?query=data%20science',  \n",
    "'//doc/4283670?query=data%20science',  \n",
    "'//doc/3712659?query=data%20science',  \n",
    "'//doc/4997267?query=data%20science',  \n",
    "'//doc/4372673?query=data%20science',  \n",
    "'//doc/3779060?query=data%20science',  \n",
    "'//doc/3495410?query=data%20science',  \n",
    "'//doc/4308832?query=data%20science',  \n",
    "'//doc/4079881?query=data%20science'  \n",
    "]\n",
    "\n",
    "link = \"https://www.kommersant.ru\"\n",
    "\n",
    "list(map(lambda site: link + site, docs))"
   ]
  },
  {
   "cell_type": "markdown",
   "metadata": {},
   "source": [
    "Filter"
   ]
  },
  {
   "cell_type": "code",
   "execution_count": null,
   "metadata": {},
   "outputs": [],
   "source": [
    "words_list = [\"We're\", 'in', 'a', 'small', 'village', 'near', 'Chicago', 'My', \"cousin's\", 'getting', 'married.']\n",
    "\n",
    "even_list = []\n",
    "\n",
    "for word in words_list:\n",
    "    if len(word) % 2 == 0:\n",
    "        even_list.append(word)\n",
    "\n",
    "print(even_list)"
   ]
  },
  {
   "cell_type": "code",
   "execution_count": null,
   "metadata": {},
   "outputs": [],
   "source": [
    "def is_even(x):\n",
    "    return len(x) % 2 == 0\n",
    "\n",
    "even_list = list(filter(is_even, words_list))\n",
    "\n",
    "print(even_list)"
   ]
  },
  {
   "cell_type": "code",
   "execution_count": null,
   "metadata": {},
   "outputs": [],
   "source": [
    "elist = list(filter( lambda x: len(x) % 2 == 0, words_list))\n",
    "\n",
    "print(elist)"
   ]
  },
  {
   "cell_type": "code",
   "execution_count": null,
   "metadata": {},
   "outputs": [],
   "source": [
    "str_tuple = (\"Москва\", \"15.1 см\", \"зацвело\", \"было пол 5 утра\", \"рассвет\")\n",
    "\n",
    "filtuple = tuple(filter(lambda x: x.isalpha(), str_tuple))\n",
    "\n",
    "print(filtuple)"
   ]
  },
  {
   "cell_type": "code",
   "execution_count": null,
   "metadata": {},
   "outputs": [],
   "source": [
    "data = [\n",
    "    (\"FPW-2.0_D\", \"Бонус: Тренажер по HTML\", 10, 100, 10),\n",
    "    (\"FPW-2.0\", \"Бонус: Тренажер по JavaScript\", 9.2, 70, 180),\n",
    "    (\"FPW-2.0_D\", \"Бонус: Тренажер по React\", 8.5, 66.67, 68),\n",
    "    (\"FPW-2.0\", \"Бонусный: IT в современном мире\", 8.64, 83.74, 856),\n",
    "    (\"FPW-2.0\", \"Бонусный: Введение\", 8.73, 56.24, 745),\n",
    "    (\"FPW-2.0\", \"Бонус: D1. Знакомство с Django (NEW)\", 9.76, 95.24, 21),\n",
    "    (\"FPW-2.0_D\", \"Бонус: D2. Модели (NEW)\", 9.44, 77.78, 18)\n",
    "]\n",
    "\n",
    "def filmod(module):\n",
    "    code, name, avg_votes, nessa, count = module\n",
    "    cond1 = code == 'FPW-2.0'\n",
    "    cond2 = nessa >= 70\n",
    "    cond3 = count > 50\n",
    "    return cond1 and cond2 and cond3\n",
    "\n",
    "filtdata = list(filter(filmod, data))\n",
    "\n",
    "print(filtdata)"
   ]
  },
  {
   "cell_type": "code",
   "execution_count": 125,
   "metadata": {},
   "outputs": [
    {
     "name": "stdout",
     "output_type": "stream",
     "text": [
      "[('Smith J.', 13, 2, 2003), ('Petrova M.', 13, 3, 2003)]\n"
     ]
    }
   ],
   "source": [
    "reg = [('Ivanov', 'Sergej', 24, 9, 1995),\n",
    "      ('Smith', 'John', 13, 2, 2003),\n",
    "      ('Petrova', 'Maria', 13, 3, 2003)]\n",
    "\n",
    "def name_filt(reg):\n",
    "    surname, name, day, month, year = reg\n",
    "    full_name = surname + ' ' + name[0] + '.'\n",
    "    return full_name, day, month, year\n",
    "\n",
    "year_filt = list(filter(lambda x: (x[4] > 2000), reg)\n",
    ")\n",
    "new_reg = list(map(name_filt, year_filt))\n",
    "\n",
    "\n",
    "print(new_reg)"
   ]
  },
  {
   "cell_type": "code",
   "execution_count": 156,
   "metadata": {},
   "outputs": [
    {
     "ename": "TypeError",
     "evalue": "'tuple' object does not support item assignment",
     "output_type": "error",
     "traceback": [
      "\u001b[1;31m---------------------------------------------------------------------------\u001b[0m",
      "\u001b[1;31mTypeError\u001b[0m                                 Traceback (most recent call last)",
      "Cell \u001b[1;32mIn[156], line 15\u001b[0m\n\u001b[0;32m     12\u001b[0m         data\u001b[38;5;241m.\u001b[39mappend(line[\u001b[38;5;241m5\u001b[39m])\n\u001b[0;32m     13\u001b[0m     \u001b[38;5;28;01mreturn\u001b[39;00m data\n\u001b[1;32m---> 15\u001b[0m \u001b[38;5;28mprint\u001b[39m(\u001b[43mlines\u001b[49m\u001b[43m(\u001b[49m\u001b[43mdata\u001b[49m\u001b[43m)\u001b[49m)\n",
      "Cell \u001b[1;32mIn[156], line 11\u001b[0m, in \u001b[0;36mlines\u001b[1;34m(data)\u001b[0m\n\u001b[0;32m      9\u001b[0m \u001b[38;5;28;01mdef\u001b[39;00m \u001b[38;5;21mlines\u001b[39m(data):\n\u001b[0;32m     10\u001b[0m     \u001b[38;5;28;01mfor\u001b[39;00m line \u001b[38;5;129;01min\u001b[39;00m data:\n\u001b[1;32m---> 11\u001b[0m         \u001b[43mline\u001b[49m\u001b[43m[\u001b[49m\u001b[38;5;241;43m5\u001b[39;49m\u001b[43m]\u001b[49m \u001b[38;5;241m=\u001b[39m line[\u001b[38;5;241m0\u001b[39m] \u001b[38;5;241m*\u001b[39m line[\u001b[38;5;241m3\u001b[39m] \u001b[38;5;241m*\u001b[39m line[\u001b[38;5;241m4\u001b[39m]\n\u001b[0;32m     12\u001b[0m         data\u001b[38;5;241m.\u001b[39mappend(line[\u001b[38;5;241m5\u001b[39m])\n\u001b[0;32m     13\u001b[0m     \u001b[38;5;28;01mreturn\u001b[39;00m data\n",
      "\u001b[1;31mTypeError\u001b[0m: 'tuple' object does not support item assignment"
     ]
    }
   ],
   "source": [
    "data = [(0.00632, 6.575, 65.2, 296.0, 4.98),\n",
    " (0.02731, 6.421, 78.9, 242.0, 9.14),\n",
    " (0.02729, 7.185, 61.1, 242.0, 4.03),\n",
    " (0.03237, 6.998, 45.8, 222.0, 2.94),\n",
    " (0.06905, 7.147, 54.2, 222.0, 5.33),\n",
    " (0.02985, 6.43, 58.7, 222.0, 5.21),\n",
    " (0.08829, 6.012, 66.6, 311.0, 12.43)]\n",
    "\n",
    "def lines(data):\n",
    "    for line in data:\n",
    "        line[5] = line[0] * line[3] * line[4]\n",
    "        data.append(line[5])\n",
    "    return data\n",
    "\n",
    "print(lines(data))\n",
    "\n"
   ]
  },
  {
   "cell_type": "code",
   "execution_count": null,
   "metadata": {},
   "outputs": [],
   "source": [
    "lambdafilt = lambda x: (x[0] == 'FPW-2.0') and (x[3] >= 70) and (x[4] > 50)\n",
    "\n",
    "fd = list(filter(lambdafilt, data))\n",
    "\n",
    "print(fd)"
   ]
  },
  {
   "cell_type": "code",
   "execution_count": null,
   "metadata": {},
   "outputs": [],
   "source": [
    "prices = [34562, 66572, 25683, 17683, 56389, 28973]\n",
    "\n",
    "filtprices = list(filter(lambda x: x <= 30000, prices))\n",
    "\n",
    "print(filtprices)"
   ]
  },
  {
   "cell_type": "code",
   "execution_count": null,
   "metadata": {},
   "outputs": [],
   "source": [
    "words_list = [\"We're\", 'in', 'a', 'small', 'village', 'near', 'Chicago', 'My', \"cousin's\", 'getting', 'married.']\n",
    "\n",
    "count_a = []\n",
    "\n",
    "for word in words_list:\n",
    "    if len(word) >= 5:\n",
    "        res_tuple = (word, word.lower().count('a'))\n",
    "        count_a.append(res_tuple)\n",
    "\n",
    "print(count_a)"
   ]
  },
  {
   "cell_type": "code",
   "execution_count": null,
   "metadata": {},
   "outputs": [],
   "source": [
    "filtered_words = filter(lambda x: len(x) >= 5, words_list)\n",
    "\n",
    "counts_a = list(map(lambda x: (x, x.lower().count('a')), filtered_words))\n",
    "\n",
    "print(counts_a)"
   ]
  }
 ],
 "metadata": {
  "kernelspec": {
   "display_name": "Python 3",
   "language": "python",
   "name": "python3"
  },
  "language_info": {
   "codemirror_mode": {
    "name": "ipython",
    "version": 3
   },
   "file_extension": ".py",
   "mimetype": "text/x-python",
   "name": "python",
   "nbconvert_exporter": "python",
   "pygments_lexer": "ipython3",
   "version": "3.11.8"
  }
 },
 "nbformat": 4,
 "nbformat_minor": 2
}
