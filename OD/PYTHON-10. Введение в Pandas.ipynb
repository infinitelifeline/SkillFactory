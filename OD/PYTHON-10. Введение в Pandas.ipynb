{
 "cells": [
  {
   "cell_type": "code",
   "execution_count": 1,
   "metadata": {},
   "outputs": [
    {
     "data": {
      "text/plain": [
       "US       США\n",
       "UK    Англия\n",
       "Name: countries, dtype: object"
      ]
     },
     "execution_count": 1,
     "metadata": {},
     "output_type": "execute_result"
    }
   ],
   "source": [
    "import numpy as np\n",
    "import pandas as pd\n",
    "countries = pd.Series(data = ['Англия', 'Канада', 'США', 'Россия', 'Украина', 'Беларусь', 'Казахстан'],\n",
    "    index = ['UK', 'CA', 'US', 'RU', 'UA', 'BY', 'KZ'],\n",
    "    name = 'countries'\n",
    ")\n",
    "countries[['US', 'UK']]"
   ]
  },
  {
   "cell_type": "code",
   "execution_count": null,
   "metadata": {},
   "outputs": [],
   "source": [
    "def create_medications(names, counts):\n",
    "    medications = pd.Series(index= names, data= counts)\n",
    "    return medications\n",
    "\n",
    "def get_percent(medications, name):\n",
    "    return (medications.loc[name]/sum(medications)*100)\n",
    "\n",
    "names=['chlorhexidine', 'cyntomycin', 'afobazol']\n",
    "counts=[15, 18, 7]\n",
    "\n"
   ]
  },
  {
   "cell_type": "code",
   "execution_count": null,
   "metadata": {},
   "outputs": [],
   "source": [
    "countries = pd.DataFrame({\n",
    "    'country': ['Англия', 'Канада', 'США', 'Россия', 'Украина', 'Беларусь', 'Казахстан'],\n",
    "    'population': [1, 1, 2, 1, 1, 1, 1],\n",
    "    'area': [133396, 5, 9826630, 17125191, 603628, 207600, 2724902]\n",
    "})\n",
    "countries.index = ['UK', 'CA', 'US', 'RU', 'UA', 'BY', 'KZ']\n",
    "\n",
    "countries.loc[['RU', 'UK', 'US'], ['area', 'population']]"
   ]
  },
  {
   "cell_type": "code",
   "execution_count": null,
   "metadata": {},
   "outputs": [],
   "source": [
    "income = [478, 512, 196]\n",
    "expenses = [156, 130, 270]\n",
    "years = [2018, 2019, 2020]\n",
    "\n",
    "def create_companydf(income, expenses, years):\n",
    "    df = pd.DataFrame({'income' : [*income], 'expenses' : [*expenses]}, index=years)\n",
    "    return df\n",
    "\n",
    "def get_profit(df, year):\n",
    "    if year in years:\n",
    "        profit = df.loc['income'] - df.loc['expenses']\n",
    "    else:\n",
    "        profit=None\n",
    "    return profit\n",
    "\n",
    "\n",
    "create_companydf(income, expenses, years)\n",
    "    \n",
    "    "
   ]
  },
  {
   "cell_type": "code",
   "execution_count": null,
   "metadata": {},
   "outputs": [],
   "source": [
    "countries_df = pd.DataFrame({\n",
    "    'country': ['Англия', 'Канада', 'США', 'Россия', 'Украина', 'Беларусь', 'Казахстан'],\n",
    "    'population': [56.29, 38.05, 322.28, 146.24, 45.5, 9.5, 17.04],\n",
    "    'area': [133396, 9984670, 9826630, 17125191, 603628, 207600, 2724902]\n",
    "})\n",
    "\n",
    "countries_df.to_csv('data/countries.csv', index=False, sep=';')"
   ]
  },
  {
   "cell_type": "code",
   "execution_count": null,
   "metadata": {},
   "outputs": [],
   "source": [
    "countries_data = pd.read_csv('data/countries.csv', sep=';')\n",
    "display(countries_data)"
   ]
  },
  {
   "cell_type": "code",
   "execution_count": null,
   "metadata": {},
   "outputs": [],
   "source": [
    "md = pd.read_csv('data/melb_data.csv', sep=',')\n",
    "md['Car'] = md['Car'].astype('int64')\n",
    "md['Bedroom'] = md['Bedroom'].astype('int64')\n",
    "md['Bathroom'] = md['Bathroom'].astype('int64')\n",
    "md['Propertycount'] = md['Propertycount'].astype('int64')\n",
    "md['YearBuilt'] = md['YearBuilt'].astype('int64')\n",
    "md.to_csv('data/melb_data.csv', sep=',')"
   ]
  },
  {
   "cell_type": "code",
   "execution_count": null,
   "metadata": {},
   "outputs": [],
   "source": [
    "landsize_median = md['Landsize'].median()\n",
    "landsize_mean = md['Landsize'].mean()\n",
    "print((abs(landsize_median-landsize_mean)/landsize_mean)*100)"
   ]
  },
  {
   "cell_type": "code",
   "execution_count": null,
   "metadata": {},
   "outputs": [],
   "source": [
    "md[((md['Rooms']==3) | (md['BuildingArea']>100)) & (md['Price']<300000)]"
   ]
  },
  {
   "cell_type": "code",
   "execution_count": null,
   "metadata": {},
   "outputs": [],
   "source": [
    "md[md['Type'] == 't']['Rooms'].max()"
   ]
  },
  {
   "cell_type": "code",
   "execution_count": null,
   "metadata": {},
   "outputs": [],
   "source": [
    "meanprice = md['Price'].mean()\n",
    "md[md['Price']>meanprice]['BuildingArea'].median()"
   ]
  },
  {
   "cell_type": "code",
   "execution_count": null,
   "metadata": {},
   "outputs": [],
   "source": [
    "md[md['Bathroom']==0].shape[0]"
   ]
  },
  {
   "cell_type": "code",
   "execution_count": null,
   "metadata": {},
   "outputs": [],
   "source": [
    "sp = pd.read_csv('data/students_performance.csv', sep=',')\n",
    "med = sp[sp['race/ethnicity'] == 'group A']['writing score'].median()\n",
    "mea = sp[sp['race/ethnicity'] == 'group C']['writing score'].mean()\n",
    "sum= med - mea\n",
    "abs(sum)"
   ]
  },
  {
   "cell_type": "code",
   "execution_count": null,
   "metadata": {},
   "outputs": [],
   "source": [
    "mel = pd.read_csv('data/melb_data_ps.csv', sep=',')"
   ]
  },
  {
   "cell_type": "code",
   "execution_count": null,
   "metadata": {},
   "outputs": [],
   "source": [
    "mdf = mel.copy()\n",
    "mdf = mdf.drop(['index','Coordinates'], axis=1)\n",
    "mdf"
   ]
  },
  {
   "cell_type": "code",
   "execution_count": null,
   "metadata": {},
   "outputs": [],
   "source": [
    "totalrooms = mdf['Bedroom'] + mdf['Bathroom'] + mdf['Rooms']\n",
    "mdf['meanroomarea'] = mdf['BuildingArea'] / totalrooms\n",
    "mdf['meanroomarea']"
   ]
  },
  {
   "cell_type": "code",
   "execution_count": null,
   "metadata": {},
   "outputs": [],
   "source": [
    "diff = mdf['BuildingArea'] - mdf['Landsize']\n",
    "suma = mdf['BuildingArea'] + mdf['Landsize']\n",
    "mdf['AreaRatio'] = diff/suma\n",
    "display(mdf['AreaRatio'])"
   ]
  },
  {
   "cell_type": "code",
   "execution_count": null,
   "metadata": {},
   "outputs": [],
   "source": [
    "customer_df = pd.DataFrame({\n",
    "            'number': [0, 1, 2, 3, 4],\n",
    "            'cust_id': [128, 1201, 9832, 4392, 7472],\n",
    "            'cust_age': [13, 21, 19, 21, 60],\n",
    "            'cust_sale': [0, 0, 0.2, 0.15, 0.3],\n",
    "            'cust_year_birth': [2008, 2000, 2002, 2000, 1961],\n",
    "            'cust_order': [1400, 14142, 900, 1240, 8430]\n",
    "        })\n",
    "\n",
    "def delete_columns(df, col=[]):\n",
    "    for cc in col:\n",
    "        if cc not in df.columns:\n",
    "            return None\n",
    "    return df.drop(col, axis=1)"
   ]
  },
  {
   "cell_type": "code",
   "execution_count": null,
   "metadata": {},
   "outputs": [],
   "source": [
    "cdf = pd.DataFrame({\n",
    "    'country': ['Англия', 'Канада', 'США', 'Россия', 'Украина', 'Беларусь', 'Казахстан'],\n",
    "    'population': [56.29, 38.05, 322.28, 146.24, 45.5, 9.5, 17.04],\n",
    "    'area': [133396, 9984670, 9826630, 17125191, 603628, 207600, 2724902]\n",
    "})\n",
    "\n",
    "dens = cdf['population'] / cdf['area']\n",
    "round((dens.mean()*1000000), 2)"
   ]
  },
  {
   "cell_type": "code",
   "execution_count": null,
   "metadata": {},
   "outputs": [],
   "source": [
    "mdf['Date'] = pd.to_datetime(mdf['Date'],dayfirst=True)\n",
    "yearsSold = mdf['Date'].dt.year\n",
    "print(yearsSold.min())\n",
    "print(yearsSold.max())\n",
    "print(yearsSold.mode()[0])"
   ]
  },
  {
   "cell_type": "code",
   "execution_count": null,
   "metadata": {},
   "outputs": [],
   "source": [
    "mdf['MonthSale'] = mdf['Date'].dt.month\n",
    "mdf['MonthSale'].value_counts(normalize=True)"
   ]
  },
  {
   "cell_type": "code",
   "execution_count": null,
   "metadata": {},
   "outputs": [],
   "source": [
    "deltadays = mdf['Date'] - pd.to_datetime('2016-01-01')\n",
    "deltadays.dt.days"
   ]
  },
  {
   "cell_type": "code",
   "execution_count": null,
   "metadata": {},
   "outputs": [],
   "source": [
    "def get_street_type(address):\n",
    "    exclude_list = ['N', 'S', 'W', 'E']\n",
    "    address_list =  address.split(' ')\n",
    "    street_type = address_list[-1]\n",
    "    if street_type in exclude_list:\n",
    "        street_type = address_list[-2]\n",
    "    return street_type\n",
    "    \n",
    "street_types = mdf['Address'].apply(get_street_type)\n",
    "popular_streets = street_types.value_counts().nlargest(10).index\n",
    "mdf['streettype'] = street_types.apply(lambda x: x if x in popular_streets else 'other')\n",
    "mdf['streettype'].nunique()\n",
    "mdf = mdf.drop('Address', axis=1)\n",
    "mdf"
   ]
  },
  {
   "cell_type": "code",
   "execution_count": null,
   "metadata": {},
   "outputs": [],
   "source": [
    "mdf['weekdaysale'] = mdf['Date'].dt.dayofweek\n",
    "weekend_count = md[(mdf['weekdaysale']==5) | (mdf['weekdaysale']==6)].shape[0]\n",
    "weekend_count"
   ]
  },
  {
   "cell_type": "code",
   "execution_count": null,
   "metadata": {},
   "outputs": [],
   "source": [
    "def get_weekend(weekday):\n",
    "    if weekday == 5 or weekday == 6:\n",
    "        return 1\n",
    "    else:\n",
    "        return 0\n",
    "    \n",
    "mdf['weekend'] =  mdf['weekdaysale'].apply(get_weekend)     \n",
    "mdf['weekend']   "
   ]
  },
  {
   "cell_type": "code",
   "execution_count": null,
   "metadata": {},
   "outputs": [],
   "source": [
    "largest = mdf['SellerG'].value_counts().nlargest(49).index\n",
    "mdf['SellerG'] = mdf['SellerG'].apply(lambda x: x if x in largest else 'other')\n",
    "a = mdf[mdf['SellerG'] == 'Nelson']['Price'].min()\n",
    "b = mdf[mdf['SellerG'] == 'other']['Price'].min()\n",
    "print(round( a/ b, 1))"
   ]
  },
  {
   "cell_type": "code",
   "execution_count": null,
   "metadata": {},
   "outputs": [],
   "source": [
    "unique_list = []\n",
    "for col in mdf.columns:\n",
    "    item = (col, mdf[col].nunique(), mdf[col].dtypes)\n",
    "    unique_list.append(item)\n",
    "    \n",
    "unique_counts = pd.DataFrame(\n",
    "    unique_list,\n",
    "    columns=['colname', 'nums', 'type']\n",
    ").sort_values(by='nums', ignore_index=True)\n",
    "unique_counts"
   ]
  },
  {
   "cell_type": "code",
   "execution_count": null,
   "metadata": {},
   "outputs": [],
   "source": [
    "exclude = ['Date', 'Rooms', 'Bedroom', 'Bathroom', 'Car']\n",
    "maxUnique = 140\n",
    "for col in mdf.columns:\n",
    "    if mdf[col].nunique() < maxUnique and col not in exclude:\n",
    "        mdf[col] = mdf[col].astype('category')\n",
    "mdf['Type'] = mdf['Type'].cat.rename_categories({'u': 'unit', 't': 'townhouse', 'h': 'house'})\n",
    "mdf['Type'] = mdf['Type'].cat.add_categories('flat')"
   ]
  },
  {
   "cell_type": "code",
   "execution_count": null,
   "metadata": {},
   "outputs": [],
   "source": [
    "nht = pd.Series(['unit', 'house', 'flat', 'flat', 'house'])\n",
    "nht = nht.astype(mdf['Type'].dtype)\n",
    "nht"
   ]
  },
  {
   "cell_type": "code",
   "execution_count": null,
   "metadata": {},
   "outputs": [],
   "source": [
    "mdf['Suburb'] = mdf['Suburb'].astype('category')\n",
    "popsub = mdf['Suburb'].value_counts().nlargest(119).index\n",
    "mdf['Suburb'] = mdf['Suburb'].apply(lambda x: x if x in popsub else 'other')\n",
    "mdf.info()"
   ]
  },
  {
   "cell_type": "code",
   "execution_count": null,
   "metadata": {},
   "outputs": [],
   "source": [
    "cb = pd.read_csv('Data/citibike-tripdata.csv', sep=',')\n",
    "round(cb['usertype'].value_counts(normalize=True), 2)"
   ]
  },
  {
   "cell_type": "code",
   "execution_count": null,
   "metadata": {},
   "outputs": [],
   "source": [
    "cb = cb.drop('start station id', axis=1)\n",
    "cb = cb.drop('end station id', axis=1)\n",
    "cb['age'] = 2018 - cb['birth year']\n",
    "cb = cb.drop('birth year', axis=1)"
   ]
  },
  {
   "cell_type": "code",
   "execution_count": null,
   "metadata": {},
   "outputs": [],
   "source": [
    "#cb['trip duration'] = cb['stoptime'] - cb['starttime']\n",
    "cb['stoptime'] = pd.to_datetime(cb['stoptime'])\n",
    "cb['starttime'] = pd.to_datetime(cb['starttime'])\n",
    "cb['trip duration'] = cb['stoptime'] - cb['starttime']\n",
    "cb['trip duration'].loc[3]"
   ]
  },
  {
   "cell_type": "code",
   "execution_count": null,
   "metadata": {},
   "outputs": [],
   "source": [
    "cb['weekend'] = cb['starttime'].dt.dayofweek\n",
    "\n",
    "def get_start(day):\n",
    "    if day == 5 or day == 6:\n",
    "        return 1\n",
    "    return 0\n",
    "cb['weekend'] = cb['weekend'].apply(get_start)\n",
    "cb['weekend'].value_counts()"
   ]
  },
  {
   "cell_type": "code",
   "execution_count": null,
   "metadata": {},
   "outputs": [],
   "source": [
    "def get_time_of_day(hour):\n",
    "    if 0 <= hour <= 6:\n",
    "        return 'night'\n",
    "    elif 6 < hour <= 12:\n",
    "        return 'morning'\n",
    "    elif 12< hour <= 18:\n",
    "        return 'day'\n",
    "    elif 18 < hour <= 23:\n",
    "        return 'evening'\n",
    "    \n",
    "cb['timeofday'] = cb['starttime'].dt.hour.apply(get_time_of_day)\n",
    "day = cb[cb['timeofday'] == 'day'].shape[0]\n",
    "night = cb[cb['timeofday'] == 'night'].shape[0]\n",
    "print(round(day/night))"
   ]
  },
  {
   "cell_type": "code",
   "execution_count": null,
   "metadata": {},
   "outputs": [],
   "source": [
    "mdf['Date'] = pd.to_datetime(mdf['Date'],dayfirst=True)\n",
    "yearsSold = mdf['Date'].dt.year\n",
    "print(yearsSold.min())\n",
    "print(yearsSold.max())\n",
    "print(yearsSold.mode()[0])"
   ]
  },
  {
   "cell_type": "code",
   "execution_count": null,
   "metadata": {},
   "outputs": [],
   "source": [
    "ndf = pd.read_csv('data/melb_data_fe.csv')\n",
    "ndf['Date'] = pd.to_datetime(ndf['Date'])\n",
    "#ndf['Date'] = ndf['Date'].dt.quarter\n",
    "#ndf['Date'].value_counts().iloc[1]"
   ]
  },
  {
   "cell_type": "code",
   "execution_count": null,
   "metadata": {},
   "outputs": [],
   "source": [
    "ex = ['Date', 'Rooms', 'Bedroom', 'Bathroom', 'Car']\n",
    "uniq = 150\n",
    "for col in ndf.columns:\n",
    "    if col not in ex and ndf[col].nunique() < uniq:\n",
    "        ndf[col] = ndf[col].astype('category')\n",
    "        \n",
    "ndf.info()"
   ]
  },
  {
   "cell_type": "code",
   "execution_count": null,
   "metadata": {},
   "outputs": [],
   "source": [
    "ndf.sort_values(by=['Distance', 'Price']).loc[::10, ['Distance', 'Price']]"
   ]
  },
  {
   "cell_type": "code",
   "execution_count": null,
   "metadata": {},
   "outputs": [],
   "source": [
    "mask1 = ndf['AreaRatio'] < -0.8\n",
    "mask2 = ndf['Type'] == 'townhouse'\n",
    "mask3 = ndf['SellerG'] == 'McGrath'\n",
    "\n",
    "ndf[mask1 & mask2 & mask3].sort_values(by=['Date', 'AreaRatio'], ascending=[True, False], ignore_index=True).loc[:,['Date', 'AreaRatio']]"
   ]
  },
  {
   "cell_type": "code",
   "execution_count": null,
   "metadata": {},
   "outputs": [],
   "source": [
    "ndf['Type'].value_counts()"
   ]
  },
  {
   "cell_type": "code",
   "execution_count": null,
   "metadata": {},
   "outputs": [],
   "source": [
    "rooms = ndf['Rooms'] > 2\n",
    "typ = ndf['Type'] == 'townhouse'\n",
    "\n",
    "ndf[typ & rooms].sort_values(by=['Rooms', 'MeanRoomsSquare'], ascending=[True, False], ignore_index=True).loc[18, 'Price']"
   ]
  },
  {
   "cell_type": "code",
   "execution_count": null,
   "metadata": {},
   "outputs": [],
   "source": [
    "ndf.groupby('Regionname')['Distance'].min().sort_values(ascending=False)"
   ]
  },
  {
   "cell_type": "code",
   "execution_count": null,
   "metadata": {},
   "outputs": [],
   "source": [
    "ndf.groupby('MonthSale')['Price'].agg(['count', 'mean', 'max']).sort_values(by='count', ascending=False)"
   ]
  },
  {
   "cell_type": "code",
   "execution_count": null,
   "metadata": {},
   "outputs": [],
   "source": [
    "ndf.groupby('Regionname')['SellerG'].agg(['nunique', set])"
   ]
  },
  {
   "cell_type": "code",
   "execution_count": null,
   "metadata": {},
   "outputs": [],
   "source": [
    "ndf.groupby('Rooms')['Price'].agg('mean', 'max').sort_values(ascending=False)"
   ]
  },
  {
   "cell_type": "code",
   "execution_count": null,
   "metadata": {},
   "outputs": [],
   "source": [
    "ndf.groupby('Regionname')['Lattitude'].agg('min').sort_values(ascending=False)"
   ]
  },
  {
   "cell_type": "code",
   "execution_count": null,
   "metadata": {},
   "outputs": [],
   "source": [
    "\n",
    "date1 = pd.to_datetime('2017-05-01')\n",
    "date2  = pd.to_datetime('2017-09-01')\n",
    "mask = (date1 < ndf['Date']) & (ndf['Date'] <= date2)\n",
    "ndf[mask].groupby('SellerG')['Price'].sum().sort_values(ascending=True)"
   ]
  },
  {
   "cell_type": "code",
   "execution_count": null,
   "metadata": {},
   "outputs": [],
   "source": [
    "ndf.groupby(['Rooms','Type'])['Price'].mean().unstack()"
   ]
  },
  {
   "cell_type": "code",
   "execution_count": null,
   "metadata": {},
   "outputs": [],
   "source": [
    "ndf.pivot_table('Price', 'Rooms', 'Type', fill_value=0).round(0)"
   ]
  },
  {
   "cell_type": "code",
   "execution_count": null,
   "metadata": {},
   "outputs": [],
   "source": [
    "ndf.pivot_table('Landsize', 'Regionname', 'Type', aggfunc=['median', 'mean'], fill_value=0).round(0)"
   ]
  },
  {
   "cell_type": "code",
   "execution_count": null,
   "metadata": {},
   "outputs": [],
   "source": [
    "ndf.pivot_table('Price', ['Method', 'Type'], 'Regionname',aggfunc='median', fill_value=0).round(0)"
   ]
  },
  {
   "cell_type": "code",
   "execution_count": null,
   "metadata": {},
   "outputs": [],
   "source": [
    "pivot = ndf.pivot_table('Landsize', 'Regionname', 'Type', aggfunc=['median', 'mean'], fill_value=0)\n",
    "pivot['mean']['unit']\n",
    "mask = pivot['mean']['house'] < pivot['median']['house']\n",
    "filpiv = pivot[mask]\n",
    "filpiv"
   ]
  },
  {
   "cell_type": "code",
   "execution_count": null,
   "metadata": {},
   "outputs": [],
   "source": [
    "mser = pd.Series(\n",
    "    np.random.rand(8),\n",
    "\tindex=[['white','white','white','blue','blue','red','red','red'], \n",
    "           ['up','down','right','up','down','up','down','left']])\n",
    "mser.index"
   ]
  },
  {
   "cell_type": "code",
   "execution_count": null,
   "metadata": {},
   "outputs": [],
   "source": [
    "mframe = pd.DataFrame(np.random.randn(16).reshape(4, 4),\n",
    "                      index=[['white', 'black', 'red', 'red'], ['up', 'down', 'up', 'down']],\n",
    "                      columns=[['pen', 'pen', 'paper', 'paper'], [1,2,3,4]])\n",
    "mframe"
   ]
  },
  {
   "cell_type": "code",
   "execution_count": null,
   "metadata": {},
   "outputs": [],
   "source": [
    "table = ndf.pivot_table('BuildingArea', 'Rooms', 'Type', aggfunc='median')\n",
    "display(table)"
   ]
  },
  {
   "cell_type": "code",
   "execution_count": null,
   "metadata": {},
   "outputs": [],
   "source": [
    "pric = ndf.pivot_table('Price', 'SellerG', 'Type', aggfunc='median')\n",
    "pric.sort_values('unit').iloc[-1]"
   ]
  },
  {
   "cell_type": "code",
   "execution_count": null,
   "metadata": {},
   "outputs": [],
   "source": [
    "rat1 = pd.read_csv('data/movs/ratings1.csv')\n",
    "rat2 = pd.read_csv('data/movs/ratings2.csv')\n",
    "dats = pd.read_csv('data/movs/dates.csv')\n",
    "movs = pd.read_csv('data/movs/movies.csv')\n",
    "#dats.mode()\n",
    "rat1\n"
   ]
  },
  {
   "cell_type": "code",
   "execution_count": null,
   "metadata": {},
   "outputs": [],
   "source": [
    "ratings = pd.concat([rat1, rat2], ignore_index=True)\n",
    "print('ratings in ratings: ', ratings.shape[0])\n",
    "print('dates in dats:', dats.shape[0])\n",
    "\n",
    "ratings = ratings.drop_duplicates(ignore_index=True)\n",
    "\n",
    "print('ratings in ratings: ', ratings.shape[0])\n",
    "print('dates in dats:', dats.shape[0])\n",
    "\n",
    "ratings_dates = pd.concat([ratings, dats], axis=1)\n",
    "ratings_dates"
   ]
  },
  {
   "cell_type": "code",
   "execution_count": null,
   "metadata": {},
   "outputs": [],
   "source": [
    "joined_false = ratings_dates.join(movs, rsuffix='-right', how='left')\n",
    "joined_false"
   ]
  },
  {
   "cell_type": "code",
   "execution_count": null,
   "metadata": {},
   "outputs": [],
   "source": [
    "joined = ratings_dates.join(movs.set_index('movieId'), on='movieId', how='left')\n",
    "joined"
   ]
  },
  {
   "cell_type": "code",
   "execution_count": null,
   "metadata": {},
   "outputs": [],
   "source": [
    "merged = ratings_dates.merge(movs, on='movieId', how='left')\n",
    "print(ratings_dates.shape[0])\n",
    "print(merged.shape[0])\n",
    "merged.shape[0] == ratings_dates.shape[0]"
   ]
  },
  {
   "cell_type": "code",
   "execution_count": null,
   "metadata": {},
   "outputs": [],
   "source": [
    "merged2 = ratings_dates.merge(movs, on='movieId', how='outer')\n",
    "merged2.shape[0]"
   ]
  },
  {
   "cell_type": "code",
   "execution_count": null,
   "metadata": {},
   "outputs": [],
   "source": [
    "merge_rat = rat1.merge(rat2, how='outer')\n",
    "merge_rat"
   ]
  },
  {
   "cell_type": "code",
   "execution_count": null,
   "metadata": {},
   "outputs": [],
   "source": [
    "df1 = pd.DataFrame({'A': ['A0', 'A1', 'A2'],\n",
    "                    'B': ['B0', 'B1', 'B2']},\n",
    "                     index=['K0', 'K1', 'K2'])\n",
    " \n",
    "df2 = pd.DataFrame({'C': ['C0', 'C2', 'C3'],\n",
    "                    'D': ['D0', 'D2', 'D3']},\n",
    "                     index=['K0', 'K2', 'K3'])\n",
    " \n",
    "result = pd.merge(df1, df2, left_index=True, right_index=True, how='outer')\n",
    "result = result.dropna()\n",
    "result\n"
   ]
  },
  {
   "cell_type": "code",
   "execution_count": null,
   "metadata": {},
   "outputs": [],
   "source": [
    "import re\n",
    "def get_year_release(arg):\n",
    "    candidates = re.findall(r'\\(\\d{4}\\)', arg)\n",
    "    if len(candidates) > 0:\n",
    "        year = candidates[0].replace('(', '')\n",
    "        year = year.replace(')', '')\n",
    "        return int(year)\n",
    "    else:\n",
    "        return None"
   ]
  },
  {
   "cell_type": "code",
   "execution_count": null,
   "metadata": {},
   "outputs": [],
   "source": [
    "rams = pd.read_csv('Data/movs/ratings_movies.csv', sep=',')\n",
    "rams['year_release'] = rams['title'].apply(get_year_release)\n",
    "mask = rams['year_release']== 1999\n",
    "rams[mask].groupby('title')['rating'].mean().sort_values()"
   ]
  },
  {
   "cell_type": "code",
   "execution_count": null,
   "metadata": {},
   "outputs": [],
   "source": [
    "mask = rams['year_release']==2010\n",
    "rams[mask].groupby('genres')['rating'].mean().sort_values()"
   ]
  },
  {
   "cell_type": "code",
   "execution_count": null,
   "metadata": {},
   "outputs": [],
   "source": [
    "rams.groupby('userId')['rating'].agg(['count', 'mean']).sort_values(['count', 'mean'], ascending=[True, False])"
   ]
  },
  {
   "cell_type": "code",
   "execution_count": null,
   "metadata": {},
   "outputs": [],
   "source": [
    "mask = rams['year_release'] == 2018\n",
    "group = rams[mask].groupby('genres')['rating'].agg(['mean', 'count'])\n",
    "group[group['count']>10].sort_values('mean', ascending=False)"
   ]
  },
  {
   "cell_type": "code",
   "execution_count": null,
   "metadata": {},
   "outputs": [],
   "source": [
    "rams['year_rating'] = pd.to_datetime(rams['date']).dt.year\n",
    "pivot = rams.pivot_table(values='rating', index='year_rating', columns='genres', aggfunc='mean')\n",
    "pivot"
   ]
  },
  {
   "cell_type": "code",
   "execution_count": 99,
   "metadata": {},
   "outputs": [
    {
     "data": {
      "text/html": [
       "<div>\n",
       "<style scoped>\n",
       "    .dataframe tbody tr th:only-of-type {\n",
       "        vertical-align: middle;\n",
       "    }\n",
       "\n",
       "    .dataframe tbody tr th {\n",
       "        vertical-align: top;\n",
       "    }\n",
       "\n",
       "    .dataframe thead th {\n",
       "        text-align: right;\n",
       "    }\n",
       "</style>\n",
       "<table border=\"1\" class=\"dataframe\">\n",
       "  <thead>\n",
       "    <tr style=\"text-align: right;\">\n",
       "      <th></th>\n",
       "      <th>Дата создания</th>\n",
       "      <th>Order ID</th>\n",
       "      <th>ID Покупателя</th>\n",
       "      <th>Статус</th>\n",
       "      <th>Оплачен</th>\n",
       "      <th>Отменен</th>\n",
       "      <th>Отгружен</th>\n",
       "      <th>ID товара</th>\n",
       "      <th>Количество</th>\n",
       "      <th>Product_ID</th>\n",
       "      <th>Name</th>\n",
       "      <th>Price</th>\n",
       "      <th>CURRENCY</th>\n",
       "    </tr>\n",
       "  </thead>\n",
       "  <tbody>\n",
       "    <tr>\n",
       "      <th>17</th>\n",
       "      <td>01.01.2001 00:00:00</td>\n",
       "      <td>0</td>\n",
       "      <td>1</td>\n",
       "      <td>Оплачен, формируется к отправке</td>\n",
       "      <td>Да</td>\n",
       "      <td>Нет</td>\n",
       "      <td>Нет</td>\n",
       "      <td>666</td>\n",
       "      <td>1</td>\n",
       "      <td>NaN</td>\n",
       "      <td>NaN</td>\n",
       "      <td>NaN</td>\n",
       "      <td>NaN</td>\n",
       "    </tr>\n",
       "  </tbody>\n",
       "</table>\n",
       "</div>"
      ],
      "text/plain": [
       "          Дата создания  Order ID  ID Покупателя  \\\n",
       "17  01.01.2001 00:00:00         0              1   \n",
       "\n",
       "                             Статус Оплачен Отменен Отгружен  ID товара  \\\n",
       "17  Оплачен, формируется к отправке      Да     Нет      Нет        666   \n",
       "\n",
       "    Количество  Product_ID Name  Price CURRENCY  \n",
       "17           1         NaN  NaN    NaN      NaN  "
      ]
     },
     "execution_count": 99,
     "metadata": {},
     "output_type": "execute_result"
    }
   ],
   "source": [
    "orders = pd.read_csv('Data/prods/orders.csv', sep= ';')\n",
    "products = pd.read_csv('Data/prods/products.csv', sep=';')\n",
    "ord_prod = orders.merge(products, left_on='ID товара', right_on='Product_ID', how='left')\n",
    "ord_prod[ord_prod['Name'].isna()]"
   ]
  },
  {
   "cell_type": "code",
   "execution_count": 109,
   "metadata": {},
   "outputs": [
    {
     "data": {
      "text/plain": [
       "6    Носки беговые Camino\n",
       "Name: Name, dtype: object"
      ]
     },
     "execution_count": 109,
     "metadata": {},
     "output_type": "execute_result"
    }
   ],
   "source": [
    "ord_prod[ord_prod['Отменен'] == 'Да']['Name']"
   ]
  },
  {
   "cell_type": "code",
   "execution_count": 121,
   "metadata": {},
   "outputs": [
    {
     "data": {
      "text/plain": [
       "ID Покупателя\n",
       "7    17096.0\n",
       "5    13043.0\n",
       "8     1344.0\n",
       "1        0.0\n",
       "Name: profit, dtype: float64"
      ]
     },
     "execution_count": 121,
     "metadata": {},
     "output_type": "execute_result"
    }
   ],
   "source": [
    "ord_prod['profit'] = ord_prod['Количество'] * ord_prod['Price']\n",
    "mask = ord_prod['Оплачен'] == 'Да'\n",
    "ord_prod[mask].groupby('ID Покупателя')['profit'].sum().sort_values(ascending=False)"
   ]
  }
 ],
 "metadata": {
  "kernelspec": {
   "display_name": "Python 3",
   "language": "python",
   "name": "python3"
  },
  "language_info": {
   "codemirror_mode": {
    "name": "ipython",
    "version": 3
   },
   "file_extension": ".py",
   "mimetype": "text/x-python",
   "name": "python",
   "nbconvert_exporter": "python",
   "pygments_lexer": "ipython3",
   "version": "3.12.3"
  }
 },
 "nbformat": 4,
 "nbformat_minor": 2
}
