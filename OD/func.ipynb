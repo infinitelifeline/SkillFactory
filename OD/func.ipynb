{
 "cells": [
  {
   "cell_type": "code",
   "execution_count": null,
   "metadata": {},
   "outputs": [],
   "source": [
    "def hours(minutes):\n",
    "    hours = minutes // 60\n",
    "    left = minutes % 60\n",
    "    print('Hours:', hours)\n",
    "    print('minutes left:', left)\n",
    "hours(90)\n"
   ]
  },
  {
   "cell_type": "code",
   "execution_count": null,
   "metadata": {},
   "outputs": [],
   "source": [
    "def get_time(distance, speed):\n",
    "    result = distance / speed\n",
    "    print(result)\n",
    "time = int(get_time(120, 60))\n",
    "\n",
    "print(\"Travel time will be:\", time, \"hours\")\n",
    "\n",
    "\n"
   ]
  },
  {
   "cell_type": "code",
   "execution_count": null,
   "metadata": {},
   "outputs": [],
   "source": [
    "def get_time_tuple(distance, speed):\n",
    "        result = distance / speed\n",
    "\n",
    "result = get_time_tuple(120, 100)\n",
    "\n",
    "print(\"Hours to travel:\", hours)\n",
    "print(\"Minutes to travel:\", minutes)\n",
    "\n"
   ]
  },
  {
   "cell_type": "code",
   "execution_count": null,
   "metadata": {},
   "outputs": [],
   "source": [
    "def in_list(list_in, obj):\n",
    "    for elem in list_in:\n",
    "        if obj == elem:\n",
    "            print('Element is found')\n",
    "            return True\n",
    "            print('element not found')\n",
    "    print('Element is not found')\n",
    "    return False\n",
    "my_list = [1,2,5,7,10]\n",
    "result = in_list(my_list, 2)"
   ]
  },
  {
   "cell_type": "code",
   "execution_count": null,
   "metadata": {},
   "outputs": [],
   "source": [
    "def f_func():\n",
    "    print('script continues')"
   ]
  },
  {
   "cell_type": "code",
   "execution_count": null,
   "metadata": {},
   "outputs": [],
   "source": [
    "grades = {'Ivanov': 5, 'Smirnov': 3, 'Kuznetsova': 4, 'Tihonova': 5}\n",
    "try:\n",
    "    print(grades['Pavlov'])\n",
    "except KeyError:\n",
    "    print('Student`s mark was not found')"
   ]
  },
  {
   "cell_type": "code",
   "execution_count": null,
   "metadata": {},
   "outputs": [],
   "source": [
    "def get_time(distance, speed):\n",
    "    if speed == 0:\n",
    "        raise ValueError(' speed cannot be equal 0')\n",
    "    result = distance / speed\n",
    "    return result\n",
    "\n",
    "get_time(25, 0)"
   ]
  },
  {
   "cell_type": "code",
   "execution_count": null,
   "metadata": {},
   "outputs": [],
   "source": [
    "def get_cola(ice=True):\n",
    "    if ice == True:\n",
    "        print('Cola with ice is ready')\n",
    "    else:\n",
    "        print('cola without ice is ready')\n",
    "        \n",
    "get_cola()"
   ]
  },
  {
   "cell_type": "code",
   "execution_count": null,
   "metadata": {},
   "outputs": [],
   "source": [
    "def root(value, n, verbose=False):\n",
    "    result = value ** (1/n)\n",
    "    if verbose:\n",
    "        print('Root of power', n, 'from', value, 'equals', result)\n",
    "    return result\n",
    "\n",
    "print(root(81, 2, True))"
   ]
  },
  {
   "cell_type": "code",
   "execution_count": null,
   "metadata": {},
   "outputs": [],
   "source": [
    "def add_mark(name, mark, journal=None):\n",
    "    if journal is None:\n",
    "        journal = {}\n",
    "    journal[name] = mark\n",
    "    return journal\n",
    "\n",
    "group1 = {}\n",
    "group1 = add_mark('Ivanov', 5, group1)\n",
    "group1 = add_mark('Tihonova', 4, group1)\n",
    "print(group1)\n",
    "\n",
    "\n",
    "group2 = add_mark('Smirnov', 3)\n",
    "print(group2)\n",
    "\n",
    "group3 = add_mark('Kuznetsova', 5)\n",
    "print(group3)"
   ]
  },
  {
   "cell_type": "code",
   "execution_count": null,
   "metadata": {},
   "outputs": [],
   "source": [
    "def mean(*args):\n",
    "    result = sum(args) / len(args)\n",
    "    return result\n",
    "\n",
    "print(mean(5, 4, 7, 5))"
   ]
  },
  {
   "cell_type": "code",
   "execution_count": null,
   "metadata": {},
   "outputs": [],
   "source": [
    "def mean_mark(name, *marks):\n",
    "    result = sum(marks) / len(marks)\n",
    "    print(name + ':', result)\n",
    "    \n",
    "mean_mark('ivanov', 5, 4, 4, 5)"
   ]
  },
  {
   "cell_type": "code",
   "execution_count": null,
   "metadata": {},
   "outputs": [],
   "source": [
    "def mult(*args):\n",
    "    result = 1\n",
    "    for num in args:\n",
    "        result *= num\n",
    "    return result\n",
    "    \n",
    "print(mult(3, 5, 10))"
   ]
  },
  {
   "cell_type": "code",
   "execution_count": null,
   "metadata": {},
   "outputs": [],
   "source": [
    "langs = ['Python', 'SQL', 'Machine Learning', 'Statistics']\n",
    "print(*langs, sep=', ')"
   ]
  },
  {
   "cell_type": "code",
   "execution_count": null,
   "metadata": {},
   "outputs": [],
   "source": [
    "\n",
    "def mean_mark(name, *marks):\n",
    "    result = sum(marks) / len(marks)\n",
    "    print(name + ':', result)\n",
    "    \n",
    "mean_mark('Kuznetsov', 4,5,5,5,5,3,4,4,5,4,5)"
   ]
  },
  {
   "cell_type": "code",
   "execution_count": null,
   "metadata": {},
   "outputs": [],
   "source": [
    "def schedule(**kwargs):\n",
    "    print('Week schedule:')\n",
    "    for key in kwargs:\n",
    "        print(key, kwargs[key], sep=' - ')\n",
    "    \n",
    "schedule(monday='Python', tuesday='SQL', friday='ML')\n",
    "\n"
   ]
  },
  {
   "cell_type": "code",
   "execution_count": null,
   "metadata": {},
   "outputs": [],
   "source": [
    "def print_args(*args, **kwargs):\n",
    "    print(args)\n",
    "    print(kwargs)\n",
    "    \n",
    "print_args(1, 2, 3, 4, name='Ivanov', age='19', city='Moscow')"
   ]
  },
  {
   "cell_type": "code",
   "execution_count": null,
   "metadata": {},
   "outputs": [],
   "source": [
    "list1 = [1,4,6,8]\n",
    "list2 = [12, 45, 56, 190, 111]\n",
    "list3 = ['Python', 'Functions']\n",
    "\n",
    "how = {'sep' : ', ', 'end' : '; '}\n",
    "\n",
    "print(*list1, **how)\n",
    "print(*list2, **how)\n",
    "print(*list3, **how)"
   ]
  },
  {
   "cell_type": "code",
   "execution_count": null,
   "metadata": {},
   "outputs": [],
   "source": [
    "def get_less(list_in, num):\n",
    "    for i in list_in:\n",
    "        if i < num:\n",
    "            return i\n",
    "            if num not in list_in:\n",
    "                return None\n",
    "print(get_less([1, 5, 8,  10], 9))\n"
   ]
  },
  {
   "cell_type": "code",
   "execution_count": null,
   "metadata": {},
   "outputs": [],
   "source": [
    "def split_date(date):\n",
    "    days = int(date[:2])\n",
    "    months = int(date[2:4])\n",
    "    years = int(date[4:8])\n",
    "    date_tup = (days, months, years)\n",
    "    return date_tup\n",
    "\n",
    "print(split_date(\"31012019\"))\n"
   ]
  },
  {
   "cell_type": "code",
   "execution_count": null,
   "metadata": {},
   "outputs": [],
   "source": [
    "def split_date(date):\n",
    "    day, month, year = date[:2], date[2:4], date[4:]\n",
    "    return int(day), int(month), int(year)\n"
   ]
  },
  {
   "cell_type": "code",
   "execution_count": null,
   "metadata": {},
   "outputs": [],
   "source": [
    "def is_prime(num):\n",
    "    if num % 2 == 1 and num != 1:\n",
    "        return True\n",
    "    else:\n",
    "        return False"
   ]
  },
  {
   "cell_type": "code",
   "execution_count": null,
   "metadata": {},
   "outputs": [],
   "source": [
    "def between_min_max(*args):\n",
    "    mini = min(args)\n",
    "    maxi = max(args)\n",
    "    result = (maxi + mini)/2"
   ]
  },
  {
   "cell_type": "code",
   "execution_count": null,
   "metadata": {},
   "outputs": [],
   "source": [
    "def best_student(**students):\n",
    "    best_name = None\n",
    "    best_rating = None\n",
    "    for student, rating in students.items():\n",
    "        if best_name is None:\n",
    "            best_name = student\n",
    "            best_rating = rating\n",
    "        if rating < best_rating:\n",
    "            best_rating = rating\n",
    "            best_name = student\n",
    "        return best_name"
   ]
  },
  {
   "cell_type": "code",
   "execution_count": null,
   "metadata": {},
   "outputs": [],
   "source": [
    "is_palindrom = lambda x: 'yes' if x == (x[::-1]) else 'no'"
   ]
  },
  {
   "cell_type": "code",
   "execution_count": null,
   "metadata": {},
   "outputs": [],
   "source": [
    "def print_personal_data(**kwargs):\n",
    "    first_name, last_name, age, position, work_experience = kwargs\n",
    "    if age in kwargs:\n",
    "        print('age:', age)\n",
    "    if first_name in kwargs:\n",
    "        print('first_name:', first_name)\n",
    "    if last_name in kwargs:\n",
    "        print('last_name:', last_name)\n",
    "    if position in kwargs:\n",
    "        print('position:', position)\n",
    "    if work_experience in kwargs:\n",
    "        print('work_experience:', work_experience)\n",
    "    return first_name, last_name, age, position, work_experience\n",
    "    \n",
    "\n",
    "print_personal_data(first_name='John', last_name='Doe', age=28, position='Python developer')\n",
    "    "
   ]
  },
  {
   "cell_type": "code",
   "execution_count": null,
   "metadata": {},
   "outputs": [],
   "source": [
    "def print_personal_data(**kwargs):\n",
    "    argument_names = sorted(kwargs.keys())\n",
    "    for argument in argument_names:\n",
    "        value = kwargs[argument]\n",
    "        print('{} : {}'.format(argument, value))\n",
    "        \n",
    "print_personal_data(first_name='John', last_name='Doe', age=28, position='Python developer')\n"
   ]
  },
  {
   "cell_type": "code",
   "execution_count": null,
   "metadata": {},
   "outputs": [],
   "source": [
    "def get_words_list(text):\n",
    "    word_list = []\n",
    "    punctuation_list = ['.', ',', ';', ':', '...', '!', '?', '-', '\"', '(', ')']\n",
    "    for symbol in punctuation_list:\n",
    "        text = text.replace(symbol, '')\n",
    "        text = text.lower()\n",
    "        word_list = text.split(' ')\n",
    "    return word_list\n",
    "\n",
    "def get_unique_words(words_list):\n",
    "    unique_word_list = list(set(words_list))    \n",
    "    unique_word_list.sort()\n",
    "    return unique_word_list\n",
    "    \n",
    "\n",
    "print(get_unique_words(['and', 'take', 'the', 'most', 'special', 'care', 'that', 'you', 'locate', \"muad'dib\", 'in', 'his', 'place', 'the', 'planet', 'arrakis', 'do', 'not', 'be', 'deceived', 'by', 'the', 'fact', 'that', 'he', 'was', 'born', 'on', 'caladan', 'and', 'lived', 'his', 'first', 'fifteen', 'years', 'there', 'arrakis', 'the', 'planet', 'known', 'as', 'dune', 'is', 'forever', 'his', 'place']))\n",
    "\n"
   ]
  },
  {
   "cell_type": "code",
   "execution_count": 17,
   "metadata": {},
   "outputs": [
    {
     "name": "stdout",
     "output_type": "stream",
     "text": [
      "{'a': 1, 'beginning': 1, 'is': 2, 'the': 11, 'time': 1, 'for': 1, 'taking': 1, 'most': 2, 'delicate': 1, 'care': 3, 'that': 4, 'balances': 1, 'are': 1, 'correct': 1, 'this': 1, 'every': 1, 'sister': 1, 'of': 4, 'bene': 1, 'gesserit': 1, 'knows': 1, 'to': 1, 'begin': 1, 'your': 1, 'study': 1, 'life': 1, \"muad'dib,\": 1, 'then': 1, 'take': 2, 'you': 2, 'first': 2, 'place': 2, 'him': 1, 'in': 3, 'his': 4, 'time:': 1, 'born': 2, '57th': 1, 'year': 1, 'padishah': 1, 'emperor,': 1, 'shaddam': 1, 'iv': 1, 'and': 2, 'special': 1, 'locate': 1, \"muad'dib\": 1, 'place:': 1, 'planet': 2, 'arrakis': 1, 'do': 1, 'not': 1, 'be': 1, 'deceived': 1, 'by': 1, 'fact': 1, 'he': 1, 'was': 1, 'on': 1, 'caladan': 1, 'lived': 1, 'fifteen': 1, 'years': 1, 'there': 1, 'arrakis,': 1, 'known': 1, 'as': 1, 'dune,': 1, 'forever': 1}\n"
     ]
    }
   ],
   "source": [
    "def get_most_frequent_word(text_example):\n",
    "        word_list = []\n",
    "        punctuation_list = ['.', ',', ';', ':', '...', '!', '?', '-', '\"', '(', ')']\n",
    "        for symbol in punctuation_list:\n",
    "            text_example = text_example.replace(symbol, '')\n",
    "            text_example = text_example.lower()\n",
    "            word_list = text_example.split(' ')\n",
    "                          \n",
    "            unique_word_list = list(set(word_list))    \n",
    "            unique_word_list.sort()  \n",
    "            mfw = {}\n",
    "            \n",
    "            for frequent in word_list:\n",
    "                if frequent not in mfw:\n",
    "                    mfw[frequent] = 1\n",
    "                else:\n",
    "                    mfw[frequent] += 1\n",
    "                    for i in mfw.values():\n",
    "                    \n",
    "            return mfw\n",
    "        \n",
    "text_example = \"A beginning is the time for taking the most delicate care that the balances are correct. This every sister of the Bene Gesserit knows. To begin your study of the life of Muad'Dib, then take care that you first place him in his time: born in the 57th year of the Padishah Emperor, Shaddam IV. And take the most special care that you locate Muad'Dib in his place: the planet Arrakis. Do not be deceived by the fact that he was born on Caladan and lived his first fifteen years there. Arrakis, the planet known as Dune, is forever his place.\"\n",
    "\n",
    "print(get_most_frequent_word(text_example))\n"
   ]
  },
  {
   "cell_type": "markdown",
   "metadata": {},
   "source": []
  },
  {
   "cell_type": "code",
   "execution_count": 1,
   "metadata": {},
   "outputs": [
    {
     "ename": "NameError",
     "evalue": "name 'root' is not defined",
     "output_type": "error",
     "traceback": [
      "\u001b[1;31m---------------------------------------------------------------------------\u001b[0m",
      "\u001b[1;31mNameError\u001b[0m                                 Traceback (most recent call last)",
      "Cell \u001b[1;32mIn[1], line 7\u001b[0m\n\u001b[0;32m      5\u001b[0m     res \u001b[39m=\u001b[39m root(\u001b[39m81\u001b[39m, \u001b[39m4\u001b[39m)\n\u001b[0;32m      6\u001b[0m     \u001b[39mprint\u001b[39m((\u001b[39mf\u001b[39m\u001b[39m'\u001b[39m\u001b[39mRoot of power \u001b[39m\u001b[39m{\u001b[39;00mn\u001b[39m}\u001b[39;00m\u001b[39m from \u001b[39m\u001b[39m{\u001b[39;00mvalue\u001b[39m}\u001b[39;00m\u001b[39m equals \u001b[39m\u001b[39m{\u001b[39;00mres\u001b[39m}\u001b[39;00m\u001b[39m'\u001b[39m))\n\u001b[1;32m----> 7\u001b[0m \u001b[39mprint\u001b[39m(root(\u001b[39m81\u001b[39m, \u001b[39m4\u001b[39m))\n",
      "\u001b[1;31mNameError\u001b[0m: name 'root' is not defined"
     ]
    }
   ],
   "source": [
    "def print_root(value, n=2):\n",
    "    def root(value, n=2):\n",
    "        result = value **(1/n)\n",
    "        return result\n",
    "    res = root(81, 4)\n",
    "    print((f'Root of power {n} from {value} equals {res}'))\n",
    "print(root(81, 4))"
   ]
  },
  {
   "cell_type": "code",
   "execution_count": 1,
   "metadata": {},
   "outputs": [
    {
     "name": "stdout",
     "output_type": "stream",
     "text": [
      "Hello World\n"
     ]
    }
   ],
   "source": [
    "def outer(who):\n",
    "    def inner():\n",
    "        print(f'Hello {who}')\n",
    "    inner()\n",
    "    \n",
    "outer('World')"
   ]
  },
  {
   "cell_type": "code",
   "execution_count": null,
   "metadata": {},
   "outputs": [],
   "source": []
  }
 ],
 "metadata": {
  "kernelspec": {
   "display_name": "Python 3",
   "language": "python",
   "name": "python3"
  },
  "language_info": {
   "codemirror_mode": {
    "name": "ipython",
    "version": 3
   },
   "file_extension": ".py",
   "mimetype": "text/x-python",
   "name": "python",
   "nbconvert_exporter": "python",
   "pygments_lexer": "ipython3",
   "version": "3.11.8"
  },
  "orig_nbformat": 4
 },
 "nbformat": 4,
 "nbformat_minor": 2
}
