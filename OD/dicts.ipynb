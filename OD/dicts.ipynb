{
 "cells": [
  {
   "cell_type": "code",
   "execution_count": 1,
   "metadata": {},
   "outputs": [
    {
     "data": {
      "text/plain": [
       "{'персона': 'человек',\n",
       " 'марафон': 'гонка бегунов длиной около 26 миль',\n",
       " 'противостоять': 'оставаться сильным, несмотря на давление',\n",
       " 'бежать': 'двигаться со скоростью',\n",
       " 'бежал': 'бежать в прошедшем времени',\n",
       " 'ботинки': 'ботинок во множественном числе'}"
      ]
     },
     "execution_count": 1,
     "metadata": {},
     "output_type": "execute_result"
    }
   ],
   "source": [
    "dictionary = {'персона': 'человек',\n",
    "              'марафон': 'гонка бегунов длиной около 26 миль',\n",
    "              'противостоять': 'оставаться сильным, несмотря на давление',\n",
    "              'бежать': 'двигаться со скоростью'}\n",
    "\n",
    "dictionary.update({'бежал': 'бежать в прошедшем времени', 'ботинки': 'ботинок во множественном числе'})\n",
    "dictionary"
   ]
  },
  {
   "cell_type": "code",
   "execution_count": 2,
   "metadata": {},
   "outputs": [
    {
     "name": "stdout",
     "output_type": "stream",
     "text": [
      "100\n"
     ]
    }
   ],
   "source": [
    "story_count = {'сто': 100,\n",
    "               'девяносто': 90,\n",
    "               'двенадцать': 12,\n",
    "               'пять': 5}\n",
    "\n",
    "count = story_count.values()\n",
    "print(max(count))"
   ]
  },
  {
   "cell_type": "code",
   "execution_count": 2,
   "metadata": {},
   "outputs": [
    {
     "name": "stdout",
     "output_type": "stream",
     "text": [
      "250047\n"
     ]
    }
   ],
   "source": [
    "python_string = 'Hello! My name is Python. I will help you to analyze some data.'\n",
    "num = 0\n",
    "\n",
    "for i in python_string:\n",
    "    num += 1\n",
    "    result = num ** 3\n",
    "    \n",
    "print(result)"
   ]
  },
  {
   "cell_type": "code",
   "execution_count": 7,
   "metadata": {},
   "outputs": [
    {
     "name": "stdout",
     "output_type": "stream",
     "text": [
      "13\n"
     ]
    }
   ],
   "source": [
    "input_string = 'Hello! My name is Python. I will help you to analyze some data.'\n",
    "count_words = 0\n",
    "symb_list = (',', '.', '?', '!')\n",
    "input_string = input_string.split(' ')\n",
    "\n",
    "for word in input_string:\n",
    "    if word in symb_list:\n",
    "        word.replace(word, '')\n",
    "    count_words += 1\n",
    "        \n",
    "print(count_words)"
   ]
  },
  {
   "cell_type": "code",
   "execution_count": 23,
   "metadata": {},
   "outputs": [
    {
     "name": "stdout",
     "output_type": "stream",
     "text": [
      "jpg\n"
     ]
    }
   ],
   "source": [
    "file_path = 'data/images/train/10394.jpg'\n",
    "file_name = file_path.split('/')[-1]\n",
    "file_name = file_name.split('.')[0]\n",
    "file_extension = file_path.split('.')[1]\n",
    "\n",
    "\n",
    "print(file_extension)"
   ]
  },
  {
   "cell_type": "code",
   "execution_count": 27,
   "metadata": {},
   "outputs": [
    {
     "name": "stdout",
     "output_type": "stream",
     "text": [
      "скажи что-нибудь попросила она и он поднял на нее глаза\n"
     ]
    }
   ],
   "source": [
    "generated_text = \"глаза нее на поднял он и она попросила что-нибудь скажи\"\n",
    "updated_text = generated_text.split(' ')\n",
    "updated_text.reverse()\n",
    "updated_text = ' '.join(updated_text)\n",
    "print(updated_text)"
   ]
  }
 ],
 "metadata": {
  "kernelspec": {
   "display_name": "Python 3",
   "language": "python",
   "name": "python3"
  },
  "language_info": {
   "codemirror_mode": {
    "name": "ipython",
    "version": 3
   },
   "file_extension": ".py",
   "mimetype": "text/x-python",
   "name": "python",
   "nbconvert_exporter": "python",
   "pygments_lexer": "ipython3",
   "version": "3.11.8"
  },
  "orig_nbformat": 4
 },
 "nbformat": 4,
 "nbformat_minor": 2
}
