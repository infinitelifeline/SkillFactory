{
 "cells": [
  {
   "cell_type": "code",
   "execution_count": null,
   "metadata": {},
   "outputs": [],
   "source": [
    "incomes = [120, 38.5, 40.5, 80]\n",
    "\n",
    "total = 0\n",
    "\n",
    "for income in incomes:\n",
    "    print('current income:', income)\n",
    "    total += income\n",
    "    print('new total:', int(total))\n",
    "    print(' ')"
   ]
  },
  {
   "cell_type": "code",
   "execution_count": null,
   "metadata": {},
   "outputs": [],
   "source": [
    "s = 0\n",
    "\n",
    "n = 5\n",
    "\n",
    "for i in range(1, n+1):\n",
    "    print('current s:', s)\n",
    "    print('current number:', i)\n",
    "    s += i\n",
    "    print('sum after addition:', s)\n",
    "    print('---')\n",
    "    \n",
    "print('total sum:', s)"
   ]
  },
  {
   "cell_type": "code",
   "execution_count": null,
   "metadata": {},
   "outputs": [],
   "source": [
    "weight_of_products= [10, 42.4, 240.1, 101.5, 98, 0.4, 0.3, 15]\n",
    "\n",
    "max_weight = 100\n",
    "\n",
    "num = 1\n",
    "\n",
    "for weight in weight_of_products:\n",
    "    if weight < max_weight:\n",
    "        print('product {}, weight: {} - passenger car'.format(num, weight))\n",
    "    else:\n",
    "        print('product {}, weight: {} - truck'.format(num, weight))\n",
    "    num += 1\n",
    "    "
   ]
  },
  {
   "cell_type": "code",
   "execution_count": null,
   "metadata": {},
   "outputs": [],
   "source": [
    "n = len(weight_of_products)\n",
    "\n",
    "for i in range(n):\n",
    "    if weight_of_products[i] < max_weight:\n",
    "        print('product {}, weight: {} - passenger car'.format(i + 1, weight_of_products[i]))\n",
    "    else:\n",
    "        print('product {}, weight: {} - truck'.format(i + 1, weight_of_products[i]))"
   ]
  },
  {
   "cell_type": "code",
   "execution_count": null,
   "metadata": {},
   "outputs": [],
   "source": [
    "places = [\n",
    "    'Red Square',\n",
    "    'Swallow Nest',\n",
    "    'Niagara Falls',\n",
    "    'Grand Canyon',\n",
    "    'Louvre',\n",
    "    'Hermitage'\n",
    "]\n",
    "\n",
    "location = {\n",
    "    'Red Square': 'Russia',\n",
    "    'Swallow Nest': 'Russia',\n",
    "    'Niagara Falls': 'USA',\n",
    "    'Grand Canyon': 'USA',\n",
    "    'Louvre': 'France',\n",
    "    'Hermitage': 'Russia'\n",
    "}\n",
    "\n",
    "n = len(places)\n",
    "for i in range(n):\n",
    "    country = location[places[i]]\n",
    "    if country != 'Russia':\n",
    "        places[i] = 'Unavailable'\n",
    "print(places)"
   ]
  },
  {
   "cell_type": "code",
   "execution_count": 35,
   "metadata": {},
   "outputs": [
    {
     "name": "stdout",
     "output_type": "stream",
     "text": [
      "[-5, 1, 3, 10]\n"
     ]
    },
    {
     "ename": "TypeError",
     "evalue": "cannot unpack non-iterable int object",
     "output_type": "error",
     "traceback": [
      "\u001b[1;31m---------------------------------------------------------------------------\u001b[0m",
      "\u001b[1;31mTypeError\u001b[0m                                 Traceback (most recent call last)",
      "Cell \u001b[1;32mIn[35], line 5\u001b[0m\n\u001b[0;32m      2\u001b[0m num_list\u001b[39m.\u001b[39msort()\n\u001b[0;32m      3\u001b[0m \u001b[39mprint\u001b[39m(num_list)\n\u001b[1;32m----> 5\u001b[0m \u001b[39mfor\u001b[39;00m i, elem \u001b[39min\u001b[39;00m num_list:\n\u001b[0;32m      6\u001b[0m     i \u001b[39m=\u001b[39m \u001b[39m0\u001b[39m\n\u001b[0;32m      8\u001b[0m     \u001b[39mprint\u001b[39m(\u001b[39mf\u001b[39m\u001b[39m'\u001b[39m\u001b[39melement \u001b[39m\u001b[39m{\u001b[39;00mi\u001b[39m}\u001b[39;00m\u001b[39m: \u001b[39m\u001b[39m{\u001b[39;00melem\u001b[39m}\u001b[39;00m\u001b[39m'\u001b[39m)\n",
      "\u001b[1;31mTypeError\u001b[0m: cannot unpack non-iterable int object"
     ]
    }
   ],
   "source": [
    "num_list = [1, 10, 3, -5]\n",
    "num_list.sort()\n",
    "print(num_list)\n",
    "\n",
    "for elem in num_list:\n",
    "    print(f'element {i}: {elem}')\n",
    "    i += 1"
   ]
  }
 ],
 "metadata": {
  "kernelspec": {
   "display_name": "Python 3",
   "language": "python",
   "name": "python3"
  },
  "language_info": {
   "codemirror_mode": {
    "name": "ipython",
    "version": 3
   },
   "file_extension": ".py",
   "mimetype": "text/x-python",
   "name": "python",
   "nbconvert_exporter": "python",
   "pygments_lexer": "ipython3",
   "version": "3.11.8"
  },
  "orig_nbformat": 4
 },
 "nbformat": 4,
 "nbformat_minor": 2
}
