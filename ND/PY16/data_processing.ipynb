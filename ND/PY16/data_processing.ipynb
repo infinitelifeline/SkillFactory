{
 "cells": [
  {
   "cell_type": "code",
   "execution_count": null,
   "metadata": {},
   "outputs": [],
   "source": [
    "import pandas as pd\n",
    "\n",
    "countries_data = pd.read_csv('data\\countries.csv', sep=';')\n",
    "countries_data.to_csv('data\\countries.txt', index=False, sep=' ')\n",
    "txt_df = pd.read_table('data\\countries.txt', sep=' ', index_col=['country'])\n",
    "display(txt_df)\n"
   ]
  },
  {
   "cell_type": "code",
   "execution_count": null,
   "metadata": {},
   "outputs": [],
   "source": [
    "data = pd.read_csv('..\\data\\ErrorEnCoding.csv', encoding='koi8-r', header = None, \n",
    "encoding_errors='replace')\n",
    "display(data)"
   ]
  },
  {
   "cell_type": "code",
   "execution_count": null,
   "metadata": {},
   "outputs": [],
   "source": [
    "from chardet.universaldetector import UniversalDetector\n",
    "\n",
    "detector = UniversalDetector()\n",
    "\n",
    "with open('..\\data\\ErrorEnCoding.csv', 'rb') as fh:\n",
    "    for line in fh:\n",
    "        detector.feed(line)\n",
    "        if detector.done:\n",
    "            break\n",
    "\n",
    "print(detector.close())"
   ]
  },
  {
   "cell_type": "code",
   "execution_count": null,
   "metadata": {},
   "outputs": [],
   "source": [
    "data = pd.read_table('https://raw.githubusercontent.com/esabunor/MLWorkspace/master/melb_data.csv', sep=',')\n",
    "display(data)"
   ]
  },
  {
   "cell_type": "code",
   "execution_count": null,
   "metadata": {},
   "outputs": [],
   "source": [
    "data = pd.read_csv('..\\data\\students_performance.zip')\n",
    "compression_opts = dict(method='zip', archive_name = 'out.csv',)\n",
    "data.to_csv('..\\data\\out.zip', index=False, compression=compression_opts)"
   ]
  },
  {
   "cell_type": "code",
   "execution_count": null,
   "metadata": {},
   "outputs": [],
   "source": [
    "grades = pd.read_excel('../data/grades.xlsx', sheet_name='Maths')\n",
    "display(grades.head())"
   ]
  },
  {
   "cell_type": "code",
   "execution_count": null,
   "metadata": {},
   "outputs": [],
   "source": [
    "grades.to_excel('..\\\\data\\\\grades_new.xlsx', sheet_name='Example', index=False)"
   ]
  },
  {
   "cell_type": "code",
   "execution_count": null,
   "metadata": {},
   "outputs": [],
   "source": [
    "ratings = pd.read_excel('..\\\\data\\\\ratings_movies.xlsx', sheet_name='ratings')\n",
    "movies = pd.read_excel('..\\\\data\\\\ratings_movies.xlsx', sheet_name='movies')\n",
    "ratings.merge(movies, how='inner', left_on='movieId', right_on='movieId')\n",
    "ratings"
   ]
  },
  {
   "cell_type": "code",
   "execution_count": null,
   "metadata": {},
   "outputs": [],
   "source": [
    "import json\n",
    "from pprint import pprint\n",
    "recipe = pd.read_json('https://lms-cdn.skillfactory.ru/assets/courseware/v1/92fd198fd3eccc09a8c3498e9dd25588/asset-v1:SkillFactory+DST-3.0+28FEB2021+type@asset+block/recipes.json')\n",
    "recipe.to_json('..\\\\data\\\\json\\\\recipe.json')"
   ]
  },
  {
   "cell_type": "code",
   "execution_count": null,
   "metadata": {},
   "outputs": [],
   "source": [
    "with open('..\\\\data\\\\json\\\\recip.json') as f:\n",
    "    recipes = json.load(f)\n",
    "    \n",
    "pprint(recipes)"
   ]
  },
  {
   "cell_type": "code",
   "execution_count": null,
   "metadata": {},
   "outputs": [],
   "source": [
    "for i in recipes:\n",
    "    if i['id'] == 13121:\n",
    "        print(i)\n",
    "    "
   ]
  },
  {
   "cell_type": "code",
   "execution_count": 15,
   "metadata": {},
   "outputs": [
    {
     "name": "stdout",
     "output_type": "stream",
     "text": [
      "{'chinese', 'vietnamese', 'filipino', 'cajun_creole', 'indian', 'jamaican', 'brazilian', 'french', 'italian', 'southern_us', 'japanese', 'moroccan', 'irish', 'greek', 'russian', 'spanish', 'korean', 'thai', 'mexican', 'british'}\n"
     ]
    }
   ],
   "source": [
    "rec = set()\n",
    "for i in recipes:\n",
    "    rec.add(i['cuisine'])\n",
    "\n",
    "baza = {}\n",
    "count = 0\n",
    "\n",
    "\n",
    "for i in rec:\n",
    "    for j in recipes:\n",
    "        if i == j['cuisine']:\n",
    "            count += 1\n",
    "    baza[i] = count\n",
    "    count = 0\n",
    "max(baza, key=baza.get)\n",
    "\n",
    "print(rec)"
   ]
  },
  {
   "cell_type": "code",
   "execution_count": null,
   "metadata": {},
   "outputs": [],
   "source": []
  }
 ],
 "metadata": {
  "kernelspec": {
   "display_name": "Python 3",
   "language": "python",
   "name": "python3"
  },
  "language_info": {
   "codemirror_mode": {
    "name": "ipython",
    "version": 3
   },
   "file_extension": ".py",
   "mimetype": "text/x-python",
   "name": "python",
   "nbconvert_exporter": "python",
   "pygments_lexer": "ipython3",
   "version": "3.12.6"
  },
  "orig_nbformat": 4
 },
 "nbformat": 4,
 "nbformat_minor": 2
}
