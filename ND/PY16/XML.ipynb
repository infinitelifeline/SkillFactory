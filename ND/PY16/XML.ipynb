{
 "cells": [
  {
   "cell_type": "code",
   "execution_count": null,
   "metadata": {},
   "outputs": [],
   "source": [
    "import xml.etree.ElementTree as ET\n",
    "import pandas as pd\n",
    "\n",
    "column_names = ['name', 'price', 'weight', 'class']\n",
    "df_list = []\n",
    "\n",
    "tree = ET.parse('..\\\\data\\\\menu.xml')\n",
    "root = tree.getroot()\n",
    "\n",
    "for dish in root:\n",
    "    row = [dish.attrib['name'], dish[0].text,\n",
    "           dish[1].text, dish[2].text]\n",
    "    df_list.append(row)\n",
    "    \n",
    "df = pd.DataFrame(df_list, columns=column_names)\n",
    "df"
   ]
  },
  {
   "cell_type": "code",
   "execution_count": null,
   "metadata": {},
   "outputs": [],
   "source": [
    "new_root = ET.Element('menu')\n",
    "\n",
    "dish1 = ET.SubElement(new_root, 'dish', name='Кура')\n",
    "dish2 = ET.SubElement(new_root, 'dish', name='Греча')\n",
    "list(new_root)\n",
    "\n",
    "price1 = ET.SubElement(dish1, 'price').text = '40' \n",
    "weight1 = ET.SubElement(dish1, 'weight').text = '300' \n",
    "class1 = ET.SubElement(dish1, 'class').text = 'Мясо' \n",
    "display(list(dish1))\n",
    "\n",
    "\n",
    "price2 = ET.SubElement(dish2, 'price').text = '20' \n",
    "weight2 = ET.SubElement(dish2, 'weight').text = '200' \n",
    "class2 = ET.SubElement(dish2, 'class').text = 'Крупа'\n",
    "display(list(dish2))\n"
   ]
  },
  {
   "cell_type": "code",
   "execution_count": null,
   "metadata": {},
   "outputs": [],
   "source": [
    "for dish in new_root:\n",
    "    for param in dish:\n",
    "        print(dish.attrib['name'], param.tag, param.text)\n",
    "    print()"
   ]
  },
  {
   "cell_type": "code",
   "execution_count": 10,
   "metadata": {},
   "outputs": [],
   "source": [
    "new_root_string = ET.tostring(new_root)\n",
    "with open('..\\\\data\\\\new_menu.xml', 'wb') as f:\n",
    "    f.write(new_root_string)"
   ]
  },
  {
   "cell_type": "code",
   "execution_count": null,
   "metadata": {},
   "outputs": [],
   "source": [
    "ET.ElementTree(new_root).write('..\\\\data\\\\new_menu_good.xml', encoding='utf-8')"
   ]
  }
 ],
 "metadata": {
  "kernelspec": {
   "display_name": "Python 3",
   "language": "python",
   "name": "python3"
  },
  "language_info": {
   "codemirror_mode": {
    "name": "ipython",
    "version": 3
   },
   "file_extension": ".py",
   "mimetype": "text/x-python",
   "name": "python",
   "nbconvert_exporter": "python",
   "pygments_lexer": "ipython3",
   "version": "3.12.3"
  },
  "orig_nbformat": 4
 },
 "nbformat": 4,
 "nbformat_minor": 2
}
