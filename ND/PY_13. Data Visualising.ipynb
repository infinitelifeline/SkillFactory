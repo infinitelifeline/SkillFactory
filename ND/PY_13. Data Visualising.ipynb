{
 "cells": [
  {
   "cell_type": "code",
   "execution_count": 123,
   "metadata": {},
   "outputs": [
    {
     "data": {
      "text/plain": [
       "67.06"
      ]
     },
     "execution_count": 123,
     "metadata": {},
     "output_type": "execute_result"
    }
   ],
   "source": [
    "import pandas as pd\n",
    "import seaborn  as sns\n",
    "import  matplotlib.pyplot as plt\n",
    "\n",
    "covid = pd.read_csv('data/covid_data.csv', sep=',')\n",
    "vaccinations = pd.read_csv('data/country_vaccinations.csv',  sep=',')\n",
    "vaccinations = vaccinations[\n",
    "    ['country', 'date', 'total_vaccinations', \n",
    "     'people_vaccinated', 'people_vaccinated_per_hundred',\n",
    "     'people_fully_vaccinated', 'people_fully_vaccinated_per_hundred',\n",
    "     'daily_vaccinations', 'vaccines']\n",
    "]\n",
    "covid = covid.groupby(['date', 'country'], as_index=False)[['confirmed', 'deaths', 'recovered']].sum()\n",
    "covid['date'] = pd.to_datetime(covid['date'])\n",
    "covid['active'] = covid['confirmed'] - covid['deaths'] - covid['recovered']\n",
    "covid = covid.sort_values(by=['country', 'date'])\n",
    "covid['dailyConf'] = covid.groupby('country')['confirmed'].diff()\n",
    "covid['dailyDeath'] = covid.groupby('country')['deaths'].diff()\n",
    "covid['dailyRec'] = covid.groupby('country')['recovered'].diff()\n",
    "vaccinations['date'] = pd.to_datetime(vaccinations['date'])\n",
    "\n",
    "cdf = covid.merge(vaccinations,  on=['date', 'country'], how='left')\n",
    "\n",
    "cdf['deathRate'] = cdf['deaths'] / cdf['confirmed'] * 100\n",
    "cdf['recRate'] = cdf['recovered'] / cdf['confirmed'] * 100\n",
    "\n",
    "\n"
   ]
  },
  {
   "cell_type": "code",
   "execution_count": 135,
   "metadata": {},
   "outputs": [
    {
     "ename": "SyntaxError",
     "evalue": "positional argument follows keyword argument (2848415961.py, line 9)",
     "output_type": "error",
     "traceback": [
      "\u001b[1;36m  Cell \u001b[1;32mIn[135], line 9\u001b[1;36m\u001b[0m\n\u001b[1;33m    )\u001b[0m\n\u001b[1;37m    ^\u001b[0m\n\u001b[1;31mSyntaxError\u001b[0m\u001b[1;31m:\u001b[0m positional argument follows keyword argument\n"
     ]
    }
   ],
   "source": [
    "grouped_cases = cdf.groupby('date')['dailyConf'].sum()\n",
    "grouped_cases.plot(\n",
    "    kind='line',\n",
    "    figsize=(14, 3),\n",
    "    title='daily',\n",
    "    grid=True,\n",
    "    lw=3,\n",
    ")"
   ]
  },
  {
   "cell_type": "code",
   "execution_count": null,
   "metadata": {},
   "outputs": [],
   "source": [
    "grouped_cases.plot(\n",
    "    kind='hist',\n",
    "    bins=10,\n",
    "    figsize=(8, 6),\n",
    "    title='dayly _cases',\n",
    "    grid=True,\n",
    "    color='black'\n",
    "\n",
    ")"
   ]
  }
 ],
 "metadata": {
  "kernelspec": {
   "display_name": "Python 3",
   "language": "python",
   "name": "python3"
  },
  "language_info": {
   "codemirror_mode": {
    "name": "ipython",
    "version": 3
   },
   "file_extension": ".py",
   "mimetype": "text/x-python",
   "name": "python",
   "nbconvert_exporter": "python",
   "pygments_lexer": "ipython3",
   "version": "3.12.4"
  }
 },
 "nbformat": 4,
 "nbformat_minor": 2
}
