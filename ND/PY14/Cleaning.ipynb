{
 "cells": [
  {
   "cell_type": "code",
   "execution_count": null,
   "metadata": {},
   "outputs": [],
   "source": [
    "import pandas as pd\n",
    "import numpy as np\n",
    "import matplotlib.pyplot as plt\n",
    "import seaborn as sns"
   ]
  },
  {
   "cell_type": "code",
   "execution_count": null,
   "metadata": {},
   "outputs": [],
   "source": [
    "sber_data = pd.read_csv('../data/sber_data.csv')\n",
    "\n",
    "fig = sns.boxplot(data=sber_data, \n",
    "                  x='price_doc', \n",
    "                  y='ecology')\n",
    "\n"
   ]
  },
  {
   "cell_type": "code",
   "execution_count": null,
   "metadata": {},
   "outputs": [],
   "source": [
    "fig = plt.figure(figsize=(8,4))\n",
    "axes = fig.add_axes([0, 0, 1, 1])\n",
    "axes.scatter(x=sber_data['price_doc'],\n",
    "             y=sber_data['kremlin_km'], \n",
    "             s=10);\n",
    "axes.legend()"
   ]
  },
  {
   "cell_type": "code",
   "execution_count": null,
   "metadata": {},
   "outputs": [],
   "source": [
    "cols_null_percent = sber_data.isnull().mean() * 100\n",
    "cols_with_null = cols_null_percent[cols_null_percent>0].sort_values(ascending=False)\n",
    "cols_with_null.plot(kind='bar',\n",
    "                    figsize=(10,4),\n",
    "                    title='null`s spread in data')"
   ]
  },
  {
   "cell_type": "code",
   "execution_count": null,
   "metadata": {},
   "outputs": [],
   "source": [
    "colors = ['blue', 'yellow']\n",
    "fig = plt.figure(figsize=(10,4))\n",
    "cols = cols_with_null.index\n",
    "ax = sns.heatmap(sber_data[cols].isnull(), \n",
    "                 cmap=sns.color_palette(colors))"
   ]
  },
  {
   "cell_type": "code",
   "execution_count": null,
   "metadata": {},
   "outputs": [],
   "source": [
    "drop_data = sber_data.copy()\n",
    "thresh = drop_data.shape[0]*0.7\n",
    "drop_data = drop_data.dropna(thresh=thresh, axis=1)\n",
    "drop_data = drop_data.dropna(how = 'any', axis=0)\n",
    "drop_data.isnull().mean()\n",
    "drop_data.shape"
   ]
  },
  {
   "cell_type": "code",
   "execution_count": null,
   "metadata": {},
   "outputs": [],
   "source": [
    "sber_data[cols].hist(figsize=(20,8));"
   ]
  },
  {
   "cell_type": "code",
   "execution_count": null,
   "metadata": {},
   "outputs": [],
   "source": [
    "fill_data = sber_data.copy()\n",
    "values = {'life_sq': fill_data['full_sq'],\n",
    "          'metro_min_walk': fill_data['metro_min_walk'].median(), \n",
    "          'metro_km_walk': fill_data['metro_km_walk'].median(), \n",
    "          'railroad_station_walk_km': fill_data['railroad_station_walk_km'].median(), \n",
    "          'railroad_station_walk_min': fill_data['railroad_station_walk_min'].median(), \n",
    "          'hospital_beds_raion': fill_data['hospital_beds_raion'].mode()[0], \n",
    "          'preschool_quota': fill_data['preschool_quota'].mode()[0], \n",
    "          'school_quota': fill_data['school_quota'].mode()[0], \n",
    "          'floor': fill_data['floor'].mode()[0]}\n",
    "\n",
    "fill_data = fill_data.fillna(values)\n",
    "fill_data.isnull().mean()\n",
    "\n",
    "fill_data[cols].hist(figsize=(20,8));"
   ]
  },
  {
   "cell_type": "code",
   "execution_count": null,
   "metadata": {},
   "outputs": [],
   "source": [
    "indicator_data = sber_data.copy()\n",
    "for col in cols_with_null.index:\n",
    "    indicator_data[col + '_was_null'] = indicator_data[col].isnull()\n",
    "values = {'life_sq': indicator_data['full_sq'],\n",
    "          'metro_min_walk': indicator_data['metro_min_walk'].median(), \n",
    "          'metro_km_walk': indicator_data['metro_km_walk'].median(), \n",
    "          'railroad_station_walk_km': indicator_data['railroad_station_walk_km'].median(), \n",
    "          'railroad_station_walk_min': indicator_data['railroad_station_walk_min'].median(), \n",
    "          'hospital_beds_raion': indicator_data['hospital_beds_raion'].mode()[0], \n",
    "          'preschool_quota': indicator_data['preschool_quota'].mode()[0], \n",
    "          'school_quota': indicator_data['school_quota'].mode()[0], \n",
    "          'floor': indicator_data['floor'].mode()[0]}\n",
    "indicator_data = indicator_data.fillna(values)\n",
    "indicator_data.isnull().mean()\n",
    "indicator_data"
   ]
  },
  {
   "cell_type": "code",
   "execution_count": null,
   "metadata": {},
   "outputs": [],
   "source": [
    "outlier = sber_data[sber_data['life_sq'] > sber_data['full_sq']]\n",
    "cleaned = sber_data.drop(outlier.index, axis=0)\n",
    "cleaned.shape[0]"
   ]
  },
  {
   "cell_type": "code",
   "execution_count": null,
   "metadata": {},
   "outputs": [],
   "source": [
    "sber_data[sber_data['floor'] > 50]"
   ]
  },
  {
   "cell_type": "code",
   "execution_count": null,
   "metadata": {},
   "outputs": [],
   "source": [
    "fig, axes = plt.subplots(nrows=1, ncols=2, figsize=(15,4))\n",
    "histplot = sns.histplot(sber_data, x='full_sq', ax=axes[0]);\n",
    "histplot.set_title('Fuul Square Distribution')\n",
    "boxplot = sns.boxplot(sber_data, x='full_sq', ax=axes[1]);\n",
    "boxplot.set_title('Full Square Boxplot');"
   ]
  },
  {
   "cell_type": "code",
   "execution_count": 30,
   "metadata": {},
   "outputs": [
    {
     "name": "stdout",
     "output_type": "stream",
     "text": [
      "963\n",
      "29508\n"
     ]
    }
   ],
   "source": [
    "def outliers_iqr(data, feature):\n",
    "    x = data[feature]\n",
    "    quartile_1, quartile_3 = x.quantile(0.25), x.quantile(0.75)\n",
    "    iqr = quartile_3 - quartile_1\n",
    "    lower_bound = quartile_1 - (iqr * 1.5)\n",
    "    upper_bound = quartile_3 + (iqr * 1.5)\n",
    "    outliers = data[(x < lower_bound) | (x > upper_bound)]\n",
    "    cleaned = data[(x >= lower_bound) & (x <= upper_bound)]\n",
    "    return outliers, cleaned\n",
    "\n",
    "outliers, cleaned = outliers_iqr(sber_data, 'full_sq')\n",
    "print(outliers.shape[0])\n",
    "print(cleaned.shape[0])"
   ]
  },
  {
   "cell_type": "code",
   "execution_count": 31,
   "metadata": {},
   "outputs": [
    {
     "data": {
      "image/png": "[encoded data removed]",
      "text/plain": [
       "<Figure size 1500x400 with 2 Axes>"
      ]
     },
     "metadata": {},
     "output_type": "display_data"
    }
   ],
   "source": [
    "fig, axes = plt.subplots(nrows=1, ncols=2, figsize=(15,4))\n",
    "histplot = sns.histplot(data=cleaned, x='full_sq', ax=axes[0]);\n",
    "histplot.set_title('Cleaned Full Square Distribution');\n",
    "boxplot = sns.boxplot(data=cleaned, x='full_sq', ax=axes[1]);\n",
    "boxplot.set_title('Cleaned Full Square Boxplot');"
   ]
  }
 ],
 "metadata": {
  "kernelspec": {
   "display_name": "Python 3",
   "language": "python",
   "name": "python3"
  },
  "language_info": {
   "codemirror_mode": {
    "name": "ipython",
    "version": 3
   },
   "file_extension": ".py",
   "mimetype": "text/x-python",
   "name": "python",
   "nbconvert_exporter": "python",
   "pygments_lexer": "ipython3",
   "version": "3.12.3"
  },
  "orig_nbformat": 4
 },
 "nbformat": 4,
 "nbformat_minor": 2
}
