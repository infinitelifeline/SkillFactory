{
 "cells": [
  {
   "cell_type": "code",
   "execution_count": 7,
   "id": "0c1e6c79",
   "metadata": {},
   "outputs": [
    {
     "name": "stdout",
     "output_type": "stream",
     "text": [
      "Counter({'red': 1})\n",
      "4\n",
      "dict_values([4, 2, 3, 1])\n"
     ]
    }
   ],
   "source": [
    "from collections import Counter\n",
    "c = Counter()\n",
    "\n",
    "c['red'] +=1\n",
    "\n",
    "print(c)\n",
    "\n",
    "cars = ['red', 'blue', 'black', 'black', 'black', 'red', 'blue', 'red', 'white']\n",
    "\n",
    "for car in cars:\n",
    "    c[car] +=1\n",
    "    \n",
    "print(c['red'])\n",
    "\n",
    "print(c.values())"
   ]
  },
  {
   "cell_type": "code",
   "execution_count": null,
   "id": "2b2ac3c4",
   "metadata": {},
   "outputs": [
    {
     "name": "stdout",
     "output_type": "stream",
     "text": [
      "Counter({'black': 4, 'yellow': 3, 'white': 2})\n",
      "Counter({'white': 3, 'red': 2, 'black': 2, 'yellow': 2})\n",
      "Counter({'black': 6, 'white': 5, 'yellow': 5, 'red': 2})\n",
      "black black black black white white yellow yellow yellow\n",
      "['black', 'white', 'yellow']\n"
     ]
    }
   ],
   "source": [
    "cars_moscow = ['black', 'black', 'white', 'black', 'black', 'white', 'yellow', 'yellow', 'yellow']\n",
    "cars_spb = ['red', 'black', 'black', 'white', 'white', 'yellow', 'yellow', 'red', 'white']\n",
    "\n",
    "mosc = Counter(cars_moscow)\n",
    "spb = Counter(cars_spb)\n",
    "print(mosc)\n",
    "print(spb)\n",
    "print(mosc + spb)\n",
    "#mosc.subtract(spb)\n",
    "print(*mosc.elements())\n",
    "print(list(mosc))\n",
    "#print(dict(mosc))\n",
    "#print(mosc.most_common(2))\n"
   ]
  },
  {
   "cell_type": "code",
   "execution_count": null,
   "id": "2c5de633",
   "metadata": {},
   "outputs": [
    {
     "name": "stdout",
     "output_type": "stream",
     "text": [
      "{1: ['Ivanov', 'Kuznetsova'], 4: ['Smirnov'], 3: ['Petrov', 'Markov'], 2: ['Nikitina', 'Pavlov']}\n"
     ]
    }
   ],
   "source": [
    "\n",
    "students = [('Ivanov',1),('Smirnov',4),('Petrov',3),('Kuznetsova',1),\n",
    "            ('Nikitina',2),('Markov',3),('Pavlov',2)]\n",
    "\n",
    "groups = dict()\n",
    "for student, group in students:\n",
    "    if group not in groups:\n",
    "        groups[group] = list()\n",
    "    groups[group].append(student)\n",
    "    \n",
    "print(groups)"
   ]
  },
  {
   "cell_type": "code",
   "execution_count": 27,
   "id": "ce82422f",
   "metadata": {},
   "outputs": [
    {
     "name": "stdout",
     "output_type": "stream",
     "text": [
      "['Petrov', 'Markov']\n"
     ]
    }
   ],
   "source": [
    "from collections import defaultdict\n",
    "\n",
    "groups = defaultdict(list)\n",
    "\n",
    "for student, group in students:\n",
    "    groups[group].append(student)\n",
    "\n",
    "print(groups[3])"
   ]
  },
  {
   "cell_type": "code",
   "execution_count": 41,
   "id": "68540523",
   "metadata": {},
   "outputs": [
    {
     "name": "stdout",
     "output_type": "stream",
     "text": [
      "deque(['Ivanov', 'Petrov', 'Smirnov', 'Tikhonova'])\n",
      "Ivanov\n",
      "Petrov\n",
      "deque(['Smirnov', 'Tikhonova'])\n",
      "deque(['VIP', 'Smirnov', 'Tikhonova'])\n"
     ]
    },
    {
     "data": {
      "text/plain": [
       "deque(['Smirnov'])"
      ]
     },
     "execution_count": 41,
     "metadata": {},
     "output_type": "execute_result"
    }
   ],
   "source": [
    "from collections import deque\n",
    "clients = deque()\n",
    "clients.append('Ivanov')\n",
    "clients.append('Petrov')\n",
    "clients.append('Smirnov')\n",
    "clients.append('Tikhonova')\n",
    "print(clients)\n",
    "\n",
    "first = clients.popleft()\n",
    "second = clients.popleft()\n",
    "print(first)\n",
    "print(second)\n",
    "print(clients)\n",
    "\n",
    "clients.appendleft('VIP')\n",
    "print(clients)\n",
    "tired = clients.pop()\n",
    "del clients[0]\n",
    "clients"
   ]
  },
  {
   "cell_type": "code",
   "execution_count": 42,
   "id": "c3bb0e4c",
   "metadata": {},
   "outputs": [
    {
     "data": {
      "text/plain": [
       "deque([15, 14, 13, 12, 11, 1, 2, 3, 4, 5])"
      ]
     },
     "execution_count": 42,
     "metadata": {},
     "output_type": "execute_result"
    }
   ],
   "source": [
    "shop = deque([1, 2, 3, 4, 5])\n",
    "shop.extendleft([11, 12, 13, 14, 15])\n",
    "shop\n"
   ]
  },
  {
   "cell_type": "code",
   "execution_count": 47,
   "id": "256ee562",
   "metadata": {},
   "outputs": [
    {
     "data": {
      "text/plain": [
       "deque([2, 3, 8], maxlen=3)"
      ]
     },
     "execution_count": 47,
     "metadata": {},
     "output_type": "execute_result"
    }
   ],
   "source": [
    "limited = deque([1,2,3], maxlen=3)\n",
    "limited_from_list = deque([1,3,4,5,6,7], maxlen=3)\n",
    "limited.append(8)\n",
    "limited"
   ]
  },
  {
   "cell_type": "code",
   "execution_count": 49,
   "id": "827c2d97",
   "metadata": {},
   "outputs": [
    {
     "name": "stdout",
     "output_type": "stream",
     "text": [
      "20.77; 21.27; 22.16; 23.3; 24.44; 24.94; 25.56; 26.2; 25.97; 25.94; 25.57; 25.1; 24.81; 24.21; 23.23; 22.57; 21.41; 20.4; 19.6; 19.1; 19.04; 18.96; 19.44; 20.01; 20.67; \n"
     ]
    }
   ],
   "source": [
    "days = deque(maxlen=7)\n",
    "\n",
    "temps = [20.6, 19.4, 19.0, 19.0, 22.1,\n",
    "        22.5, 22.8, 24.1, 25.6, 27.0,\n",
    "        27.0, 25.6, 26.8, 27.3, 22.5,\n",
    "        25.4, 24.4, 23.7, 23.6, 22.6,\n",
    "        20.4, 17.9, 17.3, 17.3, 18.1,\n",
    "        20.1, 22.2, 19.8, 21.3, 21.3,\n",
    "        21.9]\n",
    "for temp in temps:\n",
    "    days.append(temp)\n",
    "    if len(days) == days.maxlen:\n",
    "        print(round(sum(days) / len(days), 2), end='; ')\n",
    "print('')"
   ]
  },
  {
   "cell_type": "code",
   "execution_count": null,
   "id": "77576a63",
   "metadata": {},
   "outputs": [
    {
     "name": "stdout",
     "output_type": "stream",
     "text": [
      "{'2000': -4.4, '2001': -2.5, '2002': -4.4, '2003': -9.5}\n",
      "['2000', '2001', '2002', '2003']\n"
     ]
    }
   ],
   "source": [
    "    \n",
    "    \n",
    "temps = [('2000', -4.4), ('2001', -2.5), ('2002', -4.4), ('2003', -9.5)]\n",
    "d= dict(temps)\n",
    "print(d)"
   ]
  }
 ],
 "metadata": {
  "kernelspec": {
   "display_name": "Python 3",
   "language": "python",
   "name": "python3"
  },
  "language_info": {
   "codemirror_mode": {
    "name": "ipython",
    "version": 3
   },
   "file_extension": ".py",
   "mimetype": "text/x-python",
   "name": "python",
   "nbconvert_exporter": "python",
   "pygments_lexer": "ipython3",
   "version": "3.12.6"
  }
 },
 "nbformat": 4,
 "nbformat_minor": 5
}
